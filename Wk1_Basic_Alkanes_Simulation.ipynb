{
  "nbformat": 4,
  "nbformat_minor": 0,
  "metadata": {
    "colab": {
      "name": "Wk1: Basic Alkanes Simulation",
      "provenance": [],
      "authorship_tag": "ABX9TyM+WokU5eEWxDgUEj9A91SQ",
      "include_colab_link": true
    },
    "kernelspec": {
      "name": "python3",
      "display_name": "Python 3"
    },
    "language_info": {
      "name": "python"
    }
  },
  "cells": [
    {
      "cell_type": "markdown",
      "metadata": {
        "id": "view-in-github",
        "colab_type": "text"
      },
      "source": [
        "<a href=\"https://colab.research.google.com/github/Franklinyeruan/CHEM101.6/blob/main/Wk1_Basic_Alkanes_Simulation.ipynb\" target=\"_parent\"><img src=\"https://colab.research.google.com/assets/colab-badge.svg\" alt=\"Open In Colab\"/></a>"
      ]
    },
    {
      "cell_type": "markdown",
      "source": [
        "**Week 1 Project** <Br>\n",
        "Author: Franklin Ruan, 5 Jan 2022, 22W  <Br>\n",
        "Program for basic alkane simulation"
      ],
      "metadata": {
        "id": "sUC3vB7XD3ri"
      }
    },
    {
      "cell_type": "markdown",
      "source": [
        "# Molecular Mechanics Tools: Setup\n",
        "Guide for installing openmm: <br> https://github.com/molmod/openmm-tutorial-msbs/blob/master/setup_on_google_colab.md "
      ],
      "metadata": {
        "id": "Rgi79xBDYEDS"
      }
    },
    {
      "cell_type": "code",
      "source": [
        "# import sys\n",
        "# print(sys.version)\n",
        "# !wget https://repo.anaconda.com/miniconda/Miniconda3-py37_4.10.3-Linux-x86_64.sh\n",
        "# !bash Miniconda3-py*.sh -bfp /usr/local\n",
        "# !conda config --set always_yes yes\n",
        "# !conda config --add channels conda-forge\n",
        "# !conda create -n openmm python=3.7 cudatoolkit=10.0 git jupyterlab numpy pandas scipy matplotlib ipympl rdkit openbabel openmm mdtraj pymbar pdbfixer parmed openff-toolkit openmoltools openmmforcefields\n",
        "# sys.path.append('/usr/local/envs/openmm/lib/python3.7/site-packages')\n",
        "# import openmm.testInstallation\n",
        "# openmm.testInstallation.main()"
      ],
      "metadata": {
        "id": "urH7K4xTTzF8"
      },
      "execution_count": null,
      "outputs": []
    },
    {
      "cell_type": "markdown",
      "source": [
        ""
      ],
      "metadata": {
        "id": "tkAitIpTE_37"
      }
    },
    {
      "cell_type": "code",
      "source": [
        "# Importing Packages \n",
        "from openmm import app\n",
        "import openmm as mm\n",
        "from openmm import unit"
      ],
      "metadata": {
        "id": "_K3pQZEzYJ36"
      },
      "execution_count": null,
      "outputs": []
    },
    {
      "cell_type": "markdown",
      "source": [
        "#Introduction\n",
        "\n",
        "Computational Chemistry is a field which uses calculations perfomed on computers to predict real world properties of molecules. Though, percise quantum mechanics can be calculculated, it is often taxing; thus, the braod category of computational chemistry is based off classical Newtonian physics. \n",
        "\n",
        "The full expression of a mathematical model for a molecule is often called a force field. "
      ],
      "metadata": {
        "id": "x9rkW2ujV00H"
      }
    },
    {
      "cell_type": "markdown",
      "source": [
        "**Do not run bottom code** \n",
        "Below is the XML file for butane describing it's force field  "
      ],
      "metadata": {
        "id": "JuT4cGenYAXg"
      }
    },
    {
      "cell_type": "code",
      "source": [
        "<ForceField>\n",
        " <AtomTypes>\n",
        "  <Type name=\"0\" class=\"c3\" element=\"C\" mass=\"12.01078\"/>\n",
        "  <Type name=\"1\" class=\"c3\" element=\"C\" mass=\"12.01078\"/>\n",
        "  <Type name=\"2\" class=\"hc\" element=\"H\" mass=\"1.007947\"/>\n",
        "  <Type name=\"3\" class=\"hc\" element=\"H\" mass=\"1.007947\"/>\n",
        " </AtomTypes>\n",
        " <Residues>\n",
        "  <Residue name=\"NBU\">\n",
        "   <Atom name=\"C1\" type=\"0\"/>\n",
        "   <Atom name=\"H11\" type=\"2\"/>\n",
        "   <Atom name=\"H12\" type=\"2\"/>\n",
        "   <Atom name=\"H13\" type=\"2\"/>\n",
        "   <Atom name=\"C2\" type=\"1\"/>\n",
        "   <Atom name=\"H21\" type=\"3\"/>\n",
        "   <Atom name=\"H22\" type=\"3\"/>\n",
        "   <Atom name=\"C3\" type=\"1\"/>\n",
        "   <Atom name=\"H31\" type=\"3\"/>\n",
        "   <Atom name=\"H32\" type=\"3\"/>\n",
        "   <Atom name=\"C4\" type=\"0\"/>\n",
        "   <Atom name=\"H41\" type=\"2\"/>\n",
        "   <Atom name=\"H42\" type=\"2\"/>\n",
        "   <Atom name=\"H43\" type=\"2\"/>\n",
        "\n",
        "   # TODO: ***FILL IN THE TOPOLOGY***\n",
        "   #Carbon 1\n",
        "   <Bond atomName1=\"C1\" atomName2=\"H11\"/>\n",
        "   <Bond atomName1=\"C1\" atomName2=\"H12\"/>\n",
        "   <Bond atomName1=\"C1\" atomName2=\"H13\"/>\n",
        "   <Bond atomName1=\"C1\" atomName2=\"C1\"/>\n",
        "\n",
        "   #Carbon 2\n",
        "   <Bond atomName1=\"C2\" atomName2=\"H21\"/>\n",
        "   <Bond atomName1=\"C2\" atomName2=\"H22\"/>\n",
        "   <Bond atomName1=\"C2\" atomName2=\"C3\"/>\n",
        "\n",
        "   #Carbon 3\n",
        "   <Bond atomName1=\"C3\" atomName2=\"H31\"/>\n",
        "   <Bond atomName1=\"C3\" atomName2=\"H32\"/>\n",
        "   <Bond atomName1=\"C3\" atomName2=\"C4\"/>\n",
        "\n",
        "   #Carbon 4\n",
        "   <Bond atomName1=\"C4\" atomName2=\"H41\"/>\n",
        "   <Bond atomName1=\"C4\" atomName2=\"H42\"/>\n",
        "   <Bond atomName1=\"C4\" atomName2=\"H43\"/>\n",
        "   \n",
        "  </Residue>\n",
        " </Residues>\n",
        " <HarmonicBondForce>\n",
        "  # TODO: ***FILL IN THE BOND PARAMETERS***\n",
        "  <Bond class1=\"c3\" class2=\"c3\" length=\"0.15380\" k=\"1945727.36\"/>\n",
        "  <Bond class1=\"c3\" class2=\"hc\" length=\"0.10970\" k=\"3145687.56\"/>\n",
        "\n",
        " </HarmonicBondForce>\n",
        " <HarmonicAngleForce>\n",
        "  # TODO: ***FILL IN THE ANGLE PARAMETERS***\n",
        "  <Angle class1=\"c3\" class2=\"c3\" class3=\"c3\" angle=\"1.94621665\" k=\"542.982784\"/>\n",
        "  <Angle class1=\"c3\" class2=\"c3\" class3=\"hc\" angle=\"1.91637152\" k=\"391.756288\"/>\n",
        "  <Angle class1=\"hc\" class2=\"c3\" class3=\"hc\" angle=\"1.87762521\" k=\"326.01728\"/>\n",
        " </HarmonicAngleForce>\n",
        " <PeriodicTorsionForce>\n",
        "  # TODO: ***FILL IN THE TORSION PARAMETERS***\n",
        "  <Proper class1=\"c3\" class2=\"c3\" class3=\"c3\" class4=\"c3\" periodicity1=\"3\" phase1=\"0.0\" k1=\"0.5439\" periodicity2=\"2\" phase2=\"3.1416\" k2=\"1.2134\" periodicity3=\"1\" phase3=\"0.0\" k3=\"0.4602\"/>\n",
        "  <Proper class1=\"c3\" class2=\"c3\" class3=\"c3\" class4=\"hc\" periodicity1=\"3\" phase1=\"0.0\" k1=\"0.3347\"/>\n",
        "  <Proper class1=\"hc\" class2=\"c3\" class3=\"c3\" class4=\"hc\" periodicity1=\"3\" phase1=\"0.0\" k1=\"0.50208\"/>\n",
        " </PeriodicTorsionForce>\n",
        " <NonbondedForce coulomb14scale=\"0.833333\" lj14scale=\"0.5\">\n",
        "  # TODO: ***FILL IN THE NONBONDED PARAMETERS***\n",
        "  <Atom type=\"0\" charge=\"-0.0932\" sigma=\"0.3397710\" epsilon=\"0.4510352\"/>\n",
        "  <Atom type=\"1\" charge=\"-0.0814\" sigma=\"0.3397710\" epsilon=\"0.4510352\"/>\n",
        "  <Atom type=\"2\" charge=\"0.0324\" sigma=\"0.2600177\" epsilon=\"0.0870272\"/>\n",
        "  <Atom type=\"3\" charge=\"0.0387\" sigma=\"0.2600177\" epsilon=\"0.0870272\"/>\n",
        " </NonbondedForce>\n",
        "</ForceField>"
      ],
      "metadata": {
        "id": "So03Y-yADvFi"
      },
      "execution_count": null,
      "outputs": []
    }
  ]
}