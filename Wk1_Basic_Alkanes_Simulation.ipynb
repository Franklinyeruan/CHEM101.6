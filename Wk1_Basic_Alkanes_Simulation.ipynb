{
  "nbformat": 4,
  "nbformat_minor": 0,
  "metadata": {
    "colab": {
      "name": "Wk1: Basic Alkanes Simulation",
      "provenance": [],
      "mount_file_id": "1iF_2Qxe6JGDEzkZ_5vvHN4amihzRDHij",
      "authorship_tag": "ABX9TyNc0/d9QpnMtusxL672Bg0f",
      "include_colab_link": true
    },
    "kernelspec": {
      "name": "python3",
      "display_name": "Python 3"
    },
    "language_info": {
      "name": "python"
    },
    "accelerator": "GPU",
    "widgets": {
      "application/vnd.jupyter.widget-state+json": {
        "1b81072c6db64ec784ff9ead07454b56": {
          "model_module": "nglview-js-widgets",
          "model_name": "NGLModel",
          "model_module_version": "3.0.1",
          "state": {
            "_view_name": "NGLView",
            "_scene_rotation": {},
            "_ngl_view_id": [
              "5EA716BB-498E-45B2-850A-9EA9BD9E0271"
            ],
            "_synced_model_ids": [],
            "_camera_orientation": [
              52.77222724689222,
              0,
              0,
              0,
              0,
              52.77222724689222,
              0,
              0,
              0,
              0,
              52.77222724689222,
              0,
              2.837000012397766,
              -2.37799996137619,
              0.07999998331069946,
              1
            ],
            "frame": 0,
            "_view_module": "nglview-js-widgets",
            "_ibtn_fullscreen": "IPY_MODEL_2ca37b3afea54a4ea24444d955caf7cf",
            "_camera_str": "orthographic",
            "_ngl_serialize": false,
            "picked": {},
            "_model_module": "nglview-js-widgets",
            "_igui": null,
            "_iplayer": "IPY_MODEL_0448e1a6a6d64c9eb278d40051bbf0a9",
            "layout": "IPY_MODEL_ec275172df3d4390b2b17bdfccd77451",
            "_view_width": "",
            "_ngl_coordinate_resource": {},
            "_view_module_version": "3.0.1",
            "_player_dict": {},
            "_synced_repr_model_ids": [],
            "_ngl_version": "2.0.0-dev.36",
            "max_frame": 99999,
            "_dom_classes": [],
            "_model_name": "NGLModel",
            "_scene_position": {},
            "_model_module_version": "3.0.1",
            "gui_style": null,
            "background": "white",
            "_view_count": null,
            "_view_height": "",
            "_ngl_repr_dict": {
              "0": {
                "0": {
                  "type": "ball+stick",
                  "params": {
                    "clipCenter": {
                      "y": 0,
                      "x": 0,
                      "z": 0
                    },
                    "cylinderOnly": false,
                    "radiusScale": 2,
                    "metalness": 0,
                    "visible": true,
                    "radiusData": {},
                    "linewidth": 2,
                    "quality": "high",
                    "depthWrite": true,
                    "openEnded": true,
                    "disablePicking": false,
                    "radiusType": "size",
                    "sele": "",
                    "wireframe": false,
                    "lineOnly": false,
                    "colorReverse": false,
                    "roughness": 0.4,
                    "flatShaded": false,
                    "bondScale": 0.3,
                    "clipNear": 0,
                    "useInteriorColor": true,
                    "opacity": 1,
                    "lazy": false,
                    "multipleBond": "off",
                    "assembly": "default",
                    "disableImpostor": false,
                    "colorScale": "",
                    "bondSpacing": 0.75,
                    "interiorColor": 2236962,
                    "clipRadius": 0,
                    "radiusSize": 0.15,
                    "colorScheme": "element",
                    "diffuse": 16777215,
                    "matrix": {
                      "elements": [
                        1,
                        0,
                        0,
                        0,
                        0,
                        1,
                        0,
                        0,
                        0,
                        0,
                        1,
                        0,
                        0,
                        0,
                        0,
                        1
                      ]
                    },
                    "defaultAssembly": "",
                    "radialSegments": 20,
                    "diffuseInterior": false,
                    "colorMode": "hcl",
                    "sphereDetail": 2,
                    "interiorDarkening": 0,
                    "aspectRatio": 1.5,
                    "side": "double",
                    "colorValue": 9474192
                  }
                }
              },
              "1": {
                "0": {
                  "type": "ball+stick",
                  "params": {
                    "clipCenter": {
                      "y": 0,
                      "x": 0,
                      "z": 0
                    },
                    "cylinderOnly": false,
                    "radiusScale": 2,
                    "metalness": 0,
                    "visible": true,
                    "radiusData": {},
                    "linewidth": 2,
                    "quality": "high",
                    "depthWrite": true,
                    "openEnded": true,
                    "disablePicking": false,
                    "radiusType": "size",
                    "sele": "",
                    "wireframe": false,
                    "lineOnly": false,
                    "colorReverse": false,
                    "roughness": 0.4,
                    "flatShaded": false,
                    "bondScale": 0.3,
                    "clipNear": 0,
                    "useInteriorColor": true,
                    "opacity": 1,
                    "lazy": false,
                    "multipleBond": "off",
                    "assembly": "default",
                    "disableImpostor": false,
                    "colorScale": "",
                    "bondSpacing": 0.75,
                    "interiorColor": 2236962,
                    "clipRadius": 0,
                    "radiusSize": 0.15,
                    "colorScheme": "element",
                    "diffuse": 16777215,
                    "matrix": {
                      "elements": [
                        1,
                        0,
                        0,
                        0,
                        0,
                        1,
                        0,
                        0,
                        0,
                        0,
                        1,
                        0,
                        0,
                        0,
                        0,
                        1
                      ]
                    },
                    "defaultAssembly": "",
                    "radialSegments": 20,
                    "diffuseInterior": false,
                    "colorMode": "hcl",
                    "sphereDetail": 2,
                    "interiorDarkening": 0,
                    "aspectRatio": 1.5,
                    "side": "double",
                    "colorValue": 9474192
                  }
                }
              }
            },
            "_ngl_original_stage_parameters": {
              "impostor": true,
              "quality": "medium",
              "workerDefault": true,
              "sampleLevel": 0,
              "backgroundColor": "white",
              "rotateSpeed": 2,
              "zoomSpeed": 1.2,
              "panSpeed": 1,
              "clipNear": 0,
              "clipFar": 100,
              "clipDist": 10,
              "fogNear": 50,
              "fogFar": 100,
              "cameraFov": 40,
              "cameraEyeSep": 0.3,
              "cameraType": "perspective",
              "lightColor": 14540253,
              "lightIntensity": 1,
              "ambientColor": 14540253,
              "ambientIntensity": 0.2,
              "hoverTimeout": 0,
              "tooltip": true,
              "mousePreset": "default"
            },
            "_ngl_full_stage_parameters": {
              "impostor": true,
              "quality": "medium",
              "workerDefault": true,
              "sampleLevel": 0,
              "backgroundColor": "white",
              "rotateSpeed": 2,
              "zoomSpeed": 1.2,
              "panSpeed": 1,
              "clipNear": 0,
              "clipFar": 100,
              "clipDist": 10,
              "fogNear": 50,
              "fogFar": 100,
              "cameraFov": 40,
              "cameraEyeSep": 0.3,
              "cameraType": "perspective",
              "lightColor": 14540253,
              "lightIntensity": 1,
              "ambientColor": 14540253,
              "ambientIntensity": 0.2,
              "hoverTimeout": 0,
              "tooltip": true,
              "mousePreset": "default"
            },
            "n_components": 2,
            "_ngl_color_dict": {},
            "_gui_theme": null,
            "_ngl_msg_archive": [
              {
                "reconstruc_color_scheme": false,
                "methodName": "loadFile",
                "target": "Stage",
                "args": [
                  {
                    "data": "MODEL        0\nATOM      1  C1  ETH A   1      -2.368   1.805   0.238  1.00  0.00           C  \nATOM      2  H11 ETH A   1      -1.914   1.230  -0.579  1.00  0.00           H  \nATOM      3  H12 ETH A   1      -3.009   1.068   0.738  1.00  0.00           H  \nATOM      4  H13 ETH A   1      -1.575   2.052   0.954  1.00  0.00           H  \nATOM      5  C2  ETH A   1      -3.172   2.962  -0.344  1.00  0.00           C  \nATOM      6  H21 ETH A   1      -4.099   2.712  -0.875  1.00  0.00           H  \nATOM      7  H22 ETH A   1      -2.604   3.498  -1.114  1.00  0.00           H  \nATOM      8  H23 ETH A   1      -3.454   3.688   0.429  1.00  0.00           H  \nTER       9      ETH A   1\nENDMDL\nCONECT    1    3    4    5    2\nCONECT    2    1\nCONECT    3    1\nCONECT    4    1\nCONECT    5    1    8    6    7\nCONECT    6    5\nCONECT    7    5\nCONECT    8    5\nEND\n",
                    "type": "blob",
                    "binary": false
                  }
                ],
                "kwargs": {
                  "ext": "pdb",
                  "name": "nglview.adaptor.MDTrajTrajectory",
                  "defaultRepresentation": true
                },
                "type": "call_method"
              }
            ]
          }
        },
        "ec275172df3d4390b2b17bdfccd77451": {
          "model_module": "@jupyter-widgets/base",
          "model_name": "LayoutModel",
          "model_module_version": "1.2.0",
          "state": {
            "_view_name": "LayoutView",
            "grid_template_rows": null,
            "right": null,
            "justify_content": null,
            "_view_module": "@jupyter-widgets/base",
            "overflow": null,
            "_model_module_version": "1.2.0",
            "_view_count": null,
            "flex_flow": null,
            "width": null,
            "min_width": null,
            "border": null,
            "align_items": null,
            "bottom": null,
            "_model_module": "@jupyter-widgets/base",
            "top": null,
            "grid_column": null,
            "overflow_y": null,
            "overflow_x": null,
            "grid_auto_flow": null,
            "grid_area": null,
            "grid_template_columns": null,
            "flex": null,
            "_model_name": "LayoutModel",
            "justify_items": null,
            "grid_row": null,
            "max_height": null,
            "align_content": null,
            "visibility": null,
            "align_self": null,
            "height": null,
            "min_height": null,
            "padding": null,
            "grid_auto_rows": null,
            "grid_gap": null,
            "max_width": null,
            "order": null,
            "_view_module_version": "1.2.0",
            "grid_template_areas": null,
            "object_position": null,
            "object_fit": null,
            "grid_auto_columns": null,
            "margin": null,
            "display": null,
            "left": null
          }
        },
        "2ca37b3afea54a4ea24444d955caf7cf": {
          "model_module": "@jupyter-widgets/controls",
          "model_name": "ButtonModel",
          "model_module_version": "1.5.0",
          "state": {
            "_view_name": "ButtonView",
            "style": "IPY_MODEL_1b475b117ef544be9e4f06a3867a12f5",
            "_dom_classes": [],
            "description": "",
            "_model_name": "ButtonModel",
            "button_style": "",
            "_view_module": "@jupyter-widgets/controls",
            "_model_module_version": "1.5.0",
            "tooltip": "",
            "_view_count": null,
            "disabled": false,
            "_view_module_version": "1.5.0",
            "layout": "IPY_MODEL_9786baf317c945ca811152d959315ee1",
            "_model_module": "@jupyter-widgets/controls",
            "icon": "compress"
          }
        },
        "0448e1a6a6d64c9eb278d40051bbf0a9": {
          "model_module": "@jupyter-widgets/controls",
          "model_name": "HBoxModel",
          "model_module_version": "1.5.0",
          "state": {
            "_view_name": "HBoxView",
            "_dom_classes": [],
            "_model_name": "HBoxModel",
            "_view_module": "@jupyter-widgets/controls",
            "_model_module_version": "1.5.0",
            "_view_count": null,
            "_view_module_version": "1.5.0",
            "box_style": "",
            "layout": "IPY_MODEL_d0b13dda38f94f419cac58526a58d9bf",
            "_model_module": "@jupyter-widgets/controls",
            "children": [
              "IPY_MODEL_76625543b8bf4292a0698296d6b75269",
              "IPY_MODEL_149e0d44fb3d437a99d88fc609304b8f"
            ]
          }
        },
        "ac904dfcc8d54614953bf5cd781bc5f6": {
          "model_module": "@jupyter-widgets/controls",
          "model_name": "DescriptionStyleModel",
          "model_module_version": "1.5.0",
          "state": {
            "_view_name": "StyleView",
            "_model_name": "DescriptionStyleModel",
            "description_width": "",
            "_view_module": "@jupyter-widgets/base",
            "_model_module_version": "1.5.0",
            "_view_count": null,
            "_view_module_version": "1.2.0",
            "_model_module": "@jupyter-widgets/controls"
          }
        },
        "e2185a726b324b388d5822493f20d258": {
          "model_module": "@jupyter-widgets/base",
          "model_name": "LayoutModel",
          "model_module_version": "1.2.0",
          "state": {
            "_view_name": "LayoutView",
            "grid_template_rows": null,
            "right": null,
            "justify_content": null,
            "_view_module": "@jupyter-widgets/base",
            "overflow": null,
            "_model_module_version": "1.2.0",
            "_view_count": null,
            "flex_flow": null,
            "width": null,
            "min_width": null,
            "border": null,
            "align_items": null,
            "bottom": null,
            "_model_module": "@jupyter-widgets/base",
            "top": null,
            "grid_column": null,
            "overflow_y": null,
            "overflow_x": null,
            "grid_auto_flow": null,
            "grid_area": null,
            "grid_template_columns": null,
            "flex": null,
            "_model_name": "LayoutModel",
            "justify_items": null,
            "grid_row": null,
            "max_height": null,
            "align_content": null,
            "visibility": null,
            "align_self": null,
            "height": null,
            "min_height": null,
            "padding": null,
            "grid_auto_rows": null,
            "grid_gap": null,
            "max_width": null,
            "order": null,
            "_view_module_version": "1.2.0",
            "grid_template_areas": null,
            "object_position": null,
            "object_fit": null,
            "grid_auto_columns": null,
            "margin": null,
            "display": null,
            "left": null
          }
        },
        "91f2b672568b446f862c526b5e4d331c": {
          "model_module": "@jupyter-widgets/controls",
          "model_name": "SliderStyleModel",
          "model_module_version": "1.5.0",
          "state": {
            "_view_name": "StyleView",
            "handle_color": null,
            "_model_name": "SliderStyleModel",
            "description_width": "",
            "_view_module": "@jupyter-widgets/base",
            "_model_module_version": "1.5.0",
            "_view_count": null,
            "_view_module_version": "1.2.0",
            "_model_module": "@jupyter-widgets/controls"
          }
        },
        "b8e92948172845bfa55fca2290ec3475": {
          "model_module": "@jupyter-widgets/base",
          "model_name": "LayoutModel",
          "model_module_version": "1.2.0",
          "state": {
            "_view_name": "LayoutView",
            "grid_template_rows": null,
            "right": null,
            "justify_content": null,
            "_view_module": "@jupyter-widgets/base",
            "overflow": null,
            "_model_module_version": "1.2.0",
            "_view_count": null,
            "flex_flow": null,
            "width": null,
            "min_width": null,
            "border": null,
            "align_items": null,
            "bottom": null,
            "_model_module": "@jupyter-widgets/base",
            "top": null,
            "grid_column": null,
            "overflow_y": null,
            "overflow_x": null,
            "grid_auto_flow": null,
            "grid_area": null,
            "grid_template_columns": null,
            "flex": null,
            "_model_name": "LayoutModel",
            "justify_items": null,
            "grid_row": null,
            "max_height": null,
            "align_content": null,
            "visibility": null,
            "align_self": null,
            "height": null,
            "min_height": null,
            "padding": null,
            "grid_auto_rows": null,
            "grid_gap": null,
            "max_width": null,
            "order": null,
            "_view_module_version": "1.2.0",
            "grid_template_areas": null,
            "object_position": null,
            "object_fit": null,
            "grid_auto_columns": null,
            "margin": null,
            "display": null,
            "left": null
          }
        },
        "d0b13dda38f94f419cac58526a58d9bf": {
          "model_module": "@jupyter-widgets/base",
          "model_name": "LayoutModel",
          "model_module_version": "1.2.0",
          "state": {
            "_view_name": "LayoutView",
            "grid_template_rows": null,
            "right": null,
            "justify_content": null,
            "_view_module": "@jupyter-widgets/base",
            "overflow": null,
            "_model_module_version": "1.2.0",
            "_view_count": null,
            "flex_flow": null,
            "width": null,
            "min_width": null,
            "border": null,
            "align_items": null,
            "bottom": null,
            "_model_module": "@jupyter-widgets/base",
            "top": null,
            "grid_column": null,
            "overflow_y": null,
            "overflow_x": null,
            "grid_auto_flow": null,
            "grid_area": null,
            "grid_template_columns": null,
            "flex": null,
            "_model_name": "LayoutModel",
            "justify_items": null,
            "grid_row": null,
            "max_height": null,
            "align_content": null,
            "visibility": null,
            "align_self": null,
            "height": null,
            "min_height": null,
            "padding": null,
            "grid_auto_rows": null,
            "grid_gap": null,
            "max_width": null,
            "order": null,
            "_view_module_version": "1.2.0",
            "grid_template_areas": null,
            "object_position": null,
            "object_fit": null,
            "grid_auto_columns": null,
            "margin": null,
            "display": null,
            "left": null
          }
        },
        "76625543b8bf4292a0698296d6b75269": {
          "model_module": "@jupyter-widgets/controls",
          "model_name": "PlayModel",
          "model_module_version": "1.5.0",
          "state": {
            "_view_name": "PlayView",
            "style": "IPY_MODEL_ac904dfcc8d54614953bf5cd781bc5f6",
            "interval": 100,
            "_dom_classes": [],
            "description": "",
            "_model_name": "PlayModel",
            "max": 99999,
            "_view_module": "@jupyter-widgets/controls",
            "_model_module_version": "1.5.0",
            "value": 0,
            "_view_count": null,
            "disabled": false,
            "_repeat": false,
            "_view_module_version": "1.5.0",
            "show_repeat": true,
            "min": 0,
            "_playing": false,
            "step": 1,
            "description_tooltip": null,
            "_model_module": "@jupyter-widgets/controls",
            "layout": "IPY_MODEL_e2185a726b324b388d5822493f20d258"
          }
        },
        "149e0d44fb3d437a99d88fc609304b8f": {
          "model_module": "@jupyter-widgets/controls",
          "model_name": "IntSliderModel",
          "model_module_version": "1.5.0",
          "state": {
            "_view_name": "IntSliderView",
            "style": "IPY_MODEL_91f2b672568b446f862c526b5e4d331c",
            "_dom_classes": [],
            "description": "",
            "step": 1,
            "_model_name": "IntSliderModel",
            "orientation": "horizontal",
            "max": 99999,
            "_view_module": "@jupyter-widgets/controls",
            "_model_module_version": "1.5.0",
            "value": 0,
            "_view_count": null,
            "disabled": false,
            "_view_module_version": "1.5.0",
            "min": 0,
            "continuous_update": true,
            "readout_format": "d",
            "description_tooltip": null,
            "readout": true,
            "_model_module": "@jupyter-widgets/controls",
            "layout": "IPY_MODEL_b8e92948172845bfa55fca2290ec3475"
          }
        },
        "1b475b117ef544be9e4f06a3867a12f5": {
          "model_module": "@jupyter-widgets/controls",
          "model_name": "ButtonStyleModel",
          "model_module_version": "1.5.0",
          "state": {
            "_view_name": "StyleView",
            "_model_name": "ButtonStyleModel",
            "_view_module": "@jupyter-widgets/base",
            "_model_module_version": "1.5.0",
            "_view_count": null,
            "button_color": null,
            "font_weight": "",
            "_view_module_version": "1.2.0",
            "_model_module": "@jupyter-widgets/controls"
          }
        },
        "9786baf317c945ca811152d959315ee1": {
          "model_module": "@jupyter-widgets/base",
          "model_name": "LayoutModel",
          "model_module_version": "1.2.0",
          "state": {
            "_view_name": "LayoutView",
            "grid_template_rows": null,
            "right": null,
            "justify_content": null,
            "_view_module": "@jupyter-widgets/base",
            "overflow": null,
            "_model_module_version": "1.2.0",
            "_view_count": null,
            "flex_flow": null,
            "width": "34px",
            "min_width": null,
            "border": null,
            "align_items": null,
            "bottom": null,
            "_model_module": "@jupyter-widgets/base",
            "top": null,
            "grid_column": null,
            "overflow_y": null,
            "overflow_x": null,
            "grid_auto_flow": null,
            "grid_area": null,
            "grid_template_columns": null,
            "flex": null,
            "_model_name": "LayoutModel",
            "justify_items": null,
            "grid_row": null,
            "max_height": null,
            "align_content": null,
            "visibility": null,
            "align_self": null,
            "height": null,
            "min_height": null,
            "padding": null,
            "grid_auto_rows": null,
            "grid_gap": null,
            "max_width": null,
            "order": null,
            "_view_module_version": "1.2.0",
            "grid_template_areas": null,
            "object_position": null,
            "object_fit": null,
            "grid_auto_columns": null,
            "margin": null,
            "display": null,
            "left": null
          }
        },
        "879bf86992934f849ac17252c3294757": {
          "model_module": "nglview-js-widgets",
          "model_name": "NGLModel",
          "model_module_version": "3.0.1",
          "state": {
            "_view_name": "NGLView",
            "_scene_rotation": {},
            "_ngl_view_id": [
              "3E40BFC5-269C-4B9C-BB9C-EA265A924FE0"
            ],
            "_synced_model_ids": [],
            "_camera_orientation": [
              26.743391584978482,
              8.981149175704434,
              2.5283635154671615,
              0,
              -8.367517607510159,
              19.69083508326602,
              18.561204671618917,
              0,
              4.127748983478699,
              -18.272181841735932,
              21.245039776899162,
              0,
              2.822499930858612,
              -2.476499915122986,
              0.09850001335144043,
              1
            ],
            "frame": 0,
            "_view_module": "nglview-js-widgets",
            "_ibtn_fullscreen": "IPY_MODEL_7b747850e35447b3b754851f3ebc556c",
            "_camera_str": "orthographic",
            "_ngl_serialize": false,
            "picked": {},
            "_model_module": "nglview-js-widgets",
            "_igui": null,
            "_iplayer": "IPY_MODEL_d37bac558f5443f39f8ecb2c5f134474",
            "layout": "IPY_MODEL_2fe8d31fe19d48ab88e2b3b29b79cfd4",
            "_view_width": "",
            "_ngl_coordinate_resource": {},
            "_view_module_version": "3.0.1",
            "_player_dict": {},
            "_synced_repr_model_ids": [],
            "_ngl_version": "2.0.0-dev.36",
            "max_frame": 99999,
            "_dom_classes": [],
            "_model_name": "NGLModel",
            "_scene_position": {},
            "_model_module_version": "3.0.1",
            "gui_style": null,
            "background": "white",
            "_view_count": null,
            "_view_height": "",
            "_ngl_repr_dict": {
              "0": {
                "0": {
                  "type": "ball+stick",
                  "params": {
                    "clipCenter": {
                      "y": 0,
                      "x": 0,
                      "z": 0
                    },
                    "cylinderOnly": false,
                    "radiusScale": 2,
                    "metalness": 0,
                    "visible": true,
                    "radiusData": {},
                    "linewidth": 2,
                    "quality": "high",
                    "depthWrite": true,
                    "openEnded": true,
                    "disablePicking": false,
                    "radiusType": "size",
                    "sele": "",
                    "wireframe": false,
                    "lineOnly": false,
                    "colorReverse": false,
                    "roughness": 0.4,
                    "flatShaded": false,
                    "bondScale": 0.3,
                    "clipNear": 0,
                    "useInteriorColor": true,
                    "opacity": 1,
                    "lazy": false,
                    "multipleBond": "off",
                    "assembly": "default",
                    "disableImpostor": false,
                    "colorScale": "",
                    "bondSpacing": 0.75,
                    "interiorColor": 2236962,
                    "clipRadius": 0,
                    "radiusSize": 0.15,
                    "colorScheme": "element",
                    "diffuse": 16777215,
                    "matrix": {
                      "elements": [
                        1,
                        0,
                        0,
                        0,
                        0,
                        1,
                        0,
                        0,
                        0,
                        0,
                        1,
                        0,
                        0,
                        0,
                        0,
                        1
                      ]
                    },
                    "defaultAssembly": "",
                    "radialSegments": 20,
                    "diffuseInterior": false,
                    "colorMode": "hcl",
                    "sphereDetail": 2,
                    "interiorDarkening": 0,
                    "aspectRatio": 1.5,
                    "side": "double",
                    "colorValue": 9474192
                  }
                }
              },
              "1": {
                "0": {
                  "type": "ball+stick",
                  "params": {
                    "clipCenter": {
                      "y": 0,
                      "x": 0,
                      "z": 0
                    },
                    "cylinderOnly": false,
                    "radiusScale": 2,
                    "metalness": 0,
                    "visible": true,
                    "radiusData": {},
                    "linewidth": 2,
                    "quality": "high",
                    "depthWrite": true,
                    "openEnded": true,
                    "disablePicking": false,
                    "radiusType": "size",
                    "sele": "",
                    "wireframe": false,
                    "lineOnly": false,
                    "colorReverse": false,
                    "roughness": 0.4,
                    "flatShaded": false,
                    "bondScale": 0.3,
                    "clipNear": 0,
                    "useInteriorColor": true,
                    "opacity": 1,
                    "lazy": false,
                    "multipleBond": "off",
                    "assembly": "default",
                    "disableImpostor": false,
                    "colorScale": "",
                    "bondSpacing": 0.75,
                    "interiorColor": 2236962,
                    "clipRadius": 0,
                    "radiusSize": 0.15,
                    "colorScheme": "element",
                    "diffuse": 16777215,
                    "matrix": {
                      "elements": [
                        1,
                        0,
                        0,
                        0,
                        0,
                        1,
                        0,
                        0,
                        0,
                        0,
                        1,
                        0,
                        0,
                        0,
                        0,
                        1
                      ]
                    },
                    "defaultAssembly": "",
                    "radialSegments": 20,
                    "diffuseInterior": false,
                    "colorMode": "hcl",
                    "sphereDetail": 2,
                    "interiorDarkening": 0,
                    "aspectRatio": 1.5,
                    "side": "double",
                    "colorValue": 9474192
                  }
                }
              }
            },
            "_ngl_original_stage_parameters": {
              "impostor": true,
              "quality": "medium",
              "workerDefault": true,
              "sampleLevel": 0,
              "backgroundColor": "white",
              "rotateSpeed": 2,
              "zoomSpeed": 1.2,
              "panSpeed": 1,
              "clipNear": 0,
              "clipFar": 100,
              "clipDist": 10,
              "fogNear": 50,
              "fogFar": 100,
              "cameraFov": 40,
              "cameraEyeSep": 0.3,
              "cameraType": "perspective",
              "lightColor": 14540253,
              "lightIntensity": 1,
              "ambientColor": 14540253,
              "ambientIntensity": 0.2,
              "hoverTimeout": 0,
              "tooltip": true,
              "mousePreset": "default"
            },
            "_ngl_full_stage_parameters": {
              "impostor": true,
              "quality": "medium",
              "workerDefault": true,
              "sampleLevel": 0,
              "backgroundColor": "white",
              "rotateSpeed": 2,
              "zoomSpeed": 1.2,
              "panSpeed": 1,
              "clipNear": 0,
              "clipFar": 100,
              "clipDist": 10,
              "fogNear": 50,
              "fogFar": 100,
              "cameraFov": 40,
              "cameraEyeSep": 0.3,
              "cameraType": "perspective",
              "lightColor": 14540253,
              "lightIntensity": 1,
              "ambientColor": 14540253,
              "ambientIntensity": 0.2,
              "hoverTimeout": 0,
              "tooltip": true,
              "mousePreset": "default"
            },
            "n_components": 2,
            "_ngl_color_dict": {},
            "_gui_theme": null,
            "_ngl_msg_archive": [
              {
                "reconstruc_color_scheme": false,
                "methodName": "loadFile",
                "target": "Stage",
                "args": [
                  {
                    "data": "MODEL        0\nATOM      1  C1  NBU A   1      -1.453   1.589  -1.038  1.00  0.00           C  \nATOM      2  H11 NBU A   1      -0.525   2.033  -1.418  1.00  0.00           H  \nATOM      3  H12 NBU A   1      -2.119   1.587  -1.911  1.00  0.00           H  \nATOM      4  H13 NBU A   1      -1.183   0.576  -0.717  1.00  0.00           H  \nATOM      5  C2  NBU A   1      -2.058   2.352   0.160  1.00  0.00           C  \nATOM      6  H21 NBU A   1      -1.263   3.064   0.416  1.00  0.00           H  \nATOM      7  H22 NBU A   1      -2.161   1.639   0.987  1.00  0.00           H  \nATOM      8  C3  NBU A   1      -3.388   3.033  -0.204  1.00  0.00           C  \nATOM      9  H31 NBU A   1      -3.983   2.224  -0.646  1.00  0.00           H  \nATOM     10  H32 NBU A   1      -3.343   3.869  -0.914  1.00  0.00           H  \nATOM     11  C4  NBU A   1      -4.163   3.530   1.023  1.00  0.00           C  \nATOM     12  H41 NBU A   1      -4.377   2.706   1.714  1.00  0.00           H  \nATOM     13  H42 NBU A   1      -5.120   3.874   0.610  1.00  0.00           H  \nATOM     14  H43 NBU A   1      -3.674   4.377   1.521  1.00  0.00           H  \nTER      15      NBU A   1\nENDMDL\nCONECT    1    4    5    2    3\nCONECT    2    1\nCONECT    3    1\nCONECT    4    1\nCONECT    5    1    7    8    6\nCONECT    6    5\nCONECT    7    5\nCONECT    8    5    9   11   10\nCONECT    9    8\nCONECT   10    8\nCONECT   11    8   12   13   14\nCONECT   12   11\nCONECT   13   11\nCONECT   14   11\nEND\n",
                    "type": "blob",
                    "binary": false
                  }
                ],
                "kwargs": {
                  "ext": "pdb",
                  "name": "nglview.adaptor.MDTrajTrajectory",
                  "defaultRepresentation": true
                },
                "type": "call_method"
              }
            ]
          }
        },
        "2fe8d31fe19d48ab88e2b3b29b79cfd4": {
          "model_module": "@jupyter-widgets/base",
          "model_name": "LayoutModel",
          "model_module_version": "1.2.0",
          "state": {
            "_view_name": "LayoutView",
            "grid_template_rows": null,
            "right": null,
            "justify_content": null,
            "_view_module": "@jupyter-widgets/base",
            "overflow": null,
            "_model_module_version": "1.2.0",
            "_view_count": null,
            "flex_flow": null,
            "width": null,
            "min_width": null,
            "border": null,
            "align_items": null,
            "bottom": null,
            "_model_module": "@jupyter-widgets/base",
            "top": null,
            "grid_column": null,
            "overflow_y": null,
            "overflow_x": null,
            "grid_auto_flow": null,
            "grid_area": null,
            "grid_template_columns": null,
            "flex": null,
            "_model_name": "LayoutModel",
            "justify_items": null,
            "grid_row": null,
            "max_height": null,
            "align_content": null,
            "visibility": null,
            "align_self": null,
            "height": null,
            "min_height": null,
            "padding": null,
            "grid_auto_rows": null,
            "grid_gap": null,
            "max_width": null,
            "order": null,
            "_view_module_version": "1.2.0",
            "grid_template_areas": null,
            "object_position": null,
            "object_fit": null,
            "grid_auto_columns": null,
            "margin": null,
            "display": null,
            "left": null
          }
        },
        "7b747850e35447b3b754851f3ebc556c": {
          "model_module": "@jupyter-widgets/controls",
          "model_name": "ButtonModel",
          "model_module_version": "1.5.0",
          "state": {
            "_view_name": "ButtonView",
            "style": "IPY_MODEL_73c3a8cbccae4555bf6e7ed805090cb1",
            "_dom_classes": [],
            "description": "",
            "_model_name": "ButtonModel",
            "button_style": "",
            "_view_module": "@jupyter-widgets/controls",
            "_model_module_version": "1.5.0",
            "tooltip": "",
            "_view_count": null,
            "disabled": false,
            "_view_module_version": "1.5.0",
            "layout": "IPY_MODEL_ed4c9eca68ab4b7cb4823f4679651550",
            "_model_module": "@jupyter-widgets/controls",
            "icon": "compress"
          }
        },
        "d37bac558f5443f39f8ecb2c5f134474": {
          "model_module": "@jupyter-widgets/controls",
          "model_name": "HBoxModel",
          "model_module_version": "1.5.0",
          "state": {
            "_view_name": "HBoxView",
            "_dom_classes": [],
            "_model_name": "HBoxModel",
            "_view_module": "@jupyter-widgets/controls",
            "_model_module_version": "1.5.0",
            "_view_count": null,
            "_view_module_version": "1.5.0",
            "box_style": "",
            "layout": "IPY_MODEL_18a963d5e20a4a16a9a57b48a5505b52",
            "_model_module": "@jupyter-widgets/controls",
            "children": [
              "IPY_MODEL_a5f3bac33ee34b81b6141f4c7ef529b3",
              "IPY_MODEL_d9d08ca1d8464a4fa2fbea0f4f74de4a"
            ]
          }
        },
        "d65616c5f1ca4a72bd0129c74edb2a62": {
          "model_module": "@jupyter-widgets/controls",
          "model_name": "DescriptionStyleModel",
          "model_module_version": "1.5.0",
          "state": {
            "_view_name": "StyleView",
            "_model_name": "DescriptionStyleModel",
            "description_width": "",
            "_view_module": "@jupyter-widgets/base",
            "_model_module_version": "1.5.0",
            "_view_count": null,
            "_view_module_version": "1.2.0",
            "_model_module": "@jupyter-widgets/controls"
          }
        },
        "44e7ec906ebb4247b245a246b7c62d67": {
          "model_module": "@jupyter-widgets/base",
          "model_name": "LayoutModel",
          "model_module_version": "1.2.0",
          "state": {
            "_view_name": "LayoutView",
            "grid_template_rows": null,
            "right": null,
            "justify_content": null,
            "_view_module": "@jupyter-widgets/base",
            "overflow": null,
            "_model_module_version": "1.2.0",
            "_view_count": null,
            "flex_flow": null,
            "width": null,
            "min_width": null,
            "border": null,
            "align_items": null,
            "bottom": null,
            "_model_module": "@jupyter-widgets/base",
            "top": null,
            "grid_column": null,
            "overflow_y": null,
            "overflow_x": null,
            "grid_auto_flow": null,
            "grid_area": null,
            "grid_template_columns": null,
            "flex": null,
            "_model_name": "LayoutModel",
            "justify_items": null,
            "grid_row": null,
            "max_height": null,
            "align_content": null,
            "visibility": null,
            "align_self": null,
            "height": null,
            "min_height": null,
            "padding": null,
            "grid_auto_rows": null,
            "grid_gap": null,
            "max_width": null,
            "order": null,
            "_view_module_version": "1.2.0",
            "grid_template_areas": null,
            "object_position": null,
            "object_fit": null,
            "grid_auto_columns": null,
            "margin": null,
            "display": null,
            "left": null
          }
        },
        "e40be06cecda4bf0923d18934a29f619": {
          "model_module": "@jupyter-widgets/controls",
          "model_name": "SliderStyleModel",
          "model_module_version": "1.5.0",
          "state": {
            "_view_name": "StyleView",
            "handle_color": null,
            "_model_name": "SliderStyleModel",
            "description_width": "",
            "_view_module": "@jupyter-widgets/base",
            "_model_module_version": "1.5.0",
            "_view_count": null,
            "_view_module_version": "1.2.0",
            "_model_module": "@jupyter-widgets/controls"
          }
        },
        "633eea4bf04e4028b9872b12ec604e8d": {
          "model_module": "@jupyter-widgets/base",
          "model_name": "LayoutModel",
          "model_module_version": "1.2.0",
          "state": {
            "_view_name": "LayoutView",
            "grid_template_rows": null,
            "right": null,
            "justify_content": null,
            "_view_module": "@jupyter-widgets/base",
            "overflow": null,
            "_model_module_version": "1.2.0",
            "_view_count": null,
            "flex_flow": null,
            "width": null,
            "min_width": null,
            "border": null,
            "align_items": null,
            "bottom": null,
            "_model_module": "@jupyter-widgets/base",
            "top": null,
            "grid_column": null,
            "overflow_y": null,
            "overflow_x": null,
            "grid_auto_flow": null,
            "grid_area": null,
            "grid_template_columns": null,
            "flex": null,
            "_model_name": "LayoutModel",
            "justify_items": null,
            "grid_row": null,
            "max_height": null,
            "align_content": null,
            "visibility": null,
            "align_self": null,
            "height": null,
            "min_height": null,
            "padding": null,
            "grid_auto_rows": null,
            "grid_gap": null,
            "max_width": null,
            "order": null,
            "_view_module_version": "1.2.0",
            "grid_template_areas": null,
            "object_position": null,
            "object_fit": null,
            "grid_auto_columns": null,
            "margin": null,
            "display": null,
            "left": null
          }
        },
        "18a963d5e20a4a16a9a57b48a5505b52": {
          "model_module": "@jupyter-widgets/base",
          "model_name": "LayoutModel",
          "model_module_version": "1.2.0",
          "state": {
            "_view_name": "LayoutView",
            "grid_template_rows": null,
            "right": null,
            "justify_content": null,
            "_view_module": "@jupyter-widgets/base",
            "overflow": null,
            "_model_module_version": "1.2.0",
            "_view_count": null,
            "flex_flow": null,
            "width": null,
            "min_width": null,
            "border": null,
            "align_items": null,
            "bottom": null,
            "_model_module": "@jupyter-widgets/base",
            "top": null,
            "grid_column": null,
            "overflow_y": null,
            "overflow_x": null,
            "grid_auto_flow": null,
            "grid_area": null,
            "grid_template_columns": null,
            "flex": null,
            "_model_name": "LayoutModel",
            "justify_items": null,
            "grid_row": null,
            "max_height": null,
            "align_content": null,
            "visibility": null,
            "align_self": null,
            "height": null,
            "min_height": null,
            "padding": null,
            "grid_auto_rows": null,
            "grid_gap": null,
            "max_width": null,
            "order": null,
            "_view_module_version": "1.2.0",
            "grid_template_areas": null,
            "object_position": null,
            "object_fit": null,
            "grid_auto_columns": null,
            "margin": null,
            "display": null,
            "left": null
          }
        },
        "a5f3bac33ee34b81b6141f4c7ef529b3": {
          "model_module": "@jupyter-widgets/controls",
          "model_name": "PlayModel",
          "model_module_version": "1.5.0",
          "state": {
            "_view_name": "PlayView",
            "style": "IPY_MODEL_d65616c5f1ca4a72bd0129c74edb2a62",
            "interval": 100,
            "_dom_classes": [],
            "description": "",
            "_model_name": "PlayModel",
            "max": 99999,
            "_view_module": "@jupyter-widgets/controls",
            "_model_module_version": "1.5.0",
            "value": 0,
            "_view_count": null,
            "disabled": false,
            "_repeat": false,
            "_view_module_version": "1.5.0",
            "show_repeat": true,
            "min": 0,
            "_playing": false,
            "step": 1,
            "description_tooltip": null,
            "_model_module": "@jupyter-widgets/controls",
            "layout": "IPY_MODEL_44e7ec906ebb4247b245a246b7c62d67"
          }
        },
        "d9d08ca1d8464a4fa2fbea0f4f74de4a": {
          "model_module": "@jupyter-widgets/controls",
          "model_name": "IntSliderModel",
          "model_module_version": "1.5.0",
          "state": {
            "_view_name": "IntSliderView",
            "style": "IPY_MODEL_e40be06cecda4bf0923d18934a29f619",
            "_dom_classes": [],
            "description": "",
            "step": 1,
            "_model_name": "IntSliderModel",
            "orientation": "horizontal",
            "max": 99999,
            "_view_module": "@jupyter-widgets/controls",
            "_model_module_version": "1.5.0",
            "value": 0,
            "_view_count": null,
            "disabled": false,
            "_view_module_version": "1.5.0",
            "min": 0,
            "continuous_update": true,
            "readout_format": "d",
            "description_tooltip": null,
            "readout": true,
            "_model_module": "@jupyter-widgets/controls",
            "layout": "IPY_MODEL_633eea4bf04e4028b9872b12ec604e8d"
          }
        },
        "73c3a8cbccae4555bf6e7ed805090cb1": {
          "model_module": "@jupyter-widgets/controls",
          "model_name": "ButtonStyleModel",
          "model_module_version": "1.5.0",
          "state": {
            "_view_name": "StyleView",
            "_model_name": "ButtonStyleModel",
            "_view_module": "@jupyter-widgets/base",
            "_model_module_version": "1.5.0",
            "_view_count": null,
            "button_color": null,
            "font_weight": "",
            "_view_module_version": "1.2.0",
            "_model_module": "@jupyter-widgets/controls"
          }
        },
        "ed4c9eca68ab4b7cb4823f4679651550": {
          "model_module": "@jupyter-widgets/base",
          "model_name": "LayoutModel",
          "model_module_version": "1.2.0",
          "state": {
            "_view_name": "LayoutView",
            "grid_template_rows": null,
            "right": null,
            "justify_content": null,
            "_view_module": "@jupyter-widgets/base",
            "overflow": null,
            "_model_module_version": "1.2.0",
            "_view_count": null,
            "flex_flow": null,
            "width": "34px",
            "min_width": null,
            "border": null,
            "align_items": null,
            "bottom": null,
            "_model_module": "@jupyter-widgets/base",
            "top": null,
            "grid_column": null,
            "overflow_y": null,
            "overflow_x": null,
            "grid_auto_flow": null,
            "grid_area": null,
            "grid_template_columns": null,
            "flex": null,
            "_model_name": "LayoutModel",
            "justify_items": null,
            "grid_row": null,
            "max_height": null,
            "align_content": null,
            "visibility": null,
            "align_self": null,
            "height": null,
            "min_height": null,
            "padding": null,
            "grid_auto_rows": null,
            "grid_gap": null,
            "max_width": null,
            "order": null,
            "_view_module_version": "1.2.0",
            "grid_template_areas": null,
            "object_position": null,
            "object_fit": null,
            "grid_auto_columns": null,
            "margin": null,
            "display": null,
            "left": null
          }
        }
      }
    }
  },
  "cells": [
    {
      "cell_type": "markdown",
      "metadata": {
        "id": "view-in-github",
        "colab_type": "text"
      },
      "source": [
        "<a href=\"https://colab.research.google.com/github/Franklinyeruan/CHEM101.6/blob/main/Wk1_Basic_Alkanes_Simulation.ipynb\" target=\"_parent\"><img src=\"https://colab.research.google.com/assets/colab-badge.svg\" alt=\"Open In Colab\"/></a>"
      ]
    },
    {
      "cell_type": "markdown",
      "source": [
        "## **Week 1 Project: Basic Alkanes Simulation!** <Br>\n",
        "Author: Franklin Ruan, 5 Jan 2022, 22W, CHEM 96   <Br>\n",
        "Program for basic alkane simulation - adapted from: <Br> \n",
        "1. https://education.molssi.org/mm-tools/\n",
        "2. https://colab.research.google.com/github/paulrobustelli/CHEM101.6/blob/main/Butane_OpenMM.ipynb\n",
        "\n",
        "\n",
        "---\n",
        "\n",
        "\n",
        "---\n",
        "\n",
        "\n",
        "\n",
        "\n"
      ],
      "metadata": {
        "id": "sUC3vB7XD3ri"
      }
    },
    {
      "cell_type": "code",
      "source": [
        "# @title Connect to Cloud GPU \n",
        "gpu_info = !nvidia-smi\n",
        "gpu_info = '\\n'.join(gpu_info)\n",
        "if gpu_info.find('failed') >= 0:\n",
        "  print('Select the Runtime > \"Change runtime type\" menu to enable a GPU accelerator, ')\n",
        "  print('and then re-execute this cell.')\n",
        "else:\n",
        "  print(gpu_info)"
      ],
      "metadata": {
        "colab": {
          "base_uri": "https://localhost:8080/"
        },
        "id": "-glmnYlDgi-z",
        "outputId": "916e8ff9-8900-4f42-ea61-f11fe5004f78"
      },
      "execution_count": 34,
      "outputs": [
        {
          "output_type": "stream",
          "name": "stdout",
          "text": [
            "Sun Jan  9 21:37:06 2022       \n",
            "+-----------------------------------------------------------------------------+\n",
            "| NVIDIA-SMI 495.44       Driver Version: 460.32.03    CUDA Version: 11.2     |\n",
            "|-------------------------------+----------------------+----------------------+\n",
            "| GPU  Name        Persistence-M| Bus-Id        Disp.A | Volatile Uncorr. ECC |\n",
            "| Fan  Temp  Perf  Pwr:Usage/Cap|         Memory-Usage | GPU-Util  Compute M. |\n",
            "|                               |                      |               MIG M. |\n",
            "|===============================+======================+======================|\n",
            "|   0  Tesla K80           Off  | 00000000:00:04.0 Off |                    0 |\n",
            "| N/A   73C    P8    36W / 149W |      3MiB / 11441MiB |      0%      Default |\n",
            "|                               |                      |                  N/A |\n",
            "+-------------------------------+----------------------+----------------------+\n",
            "                                                                               \n",
            "+-----------------------------------------------------------------------------+\n",
            "| Processes:                                                                  |\n",
            "|  GPU   GI   CI        PID   Type   Process name                  GPU Memory |\n",
            "|        ID   ID                                                   Usage      |\n",
            "|=============================================================================|\n",
            "|  No running processes found                                                 |\n",
            "+-----------------------------------------------------------------------------+\n"
          ]
        }
      ]
    },
    {
      "cell_type": "markdown",
      "source": [
        "# Molecular Mechanics Tools: Setup\n",
        "Guide for installing openmm on Google Colab: <br> https://github.com/molmod/openmm-tutorial-msbs/blob/master/setup_on_google_colab.md "
      ],
      "metadata": {
        "id": "Rgi79xBDYEDS"
      }
    },
    {
      "cell_type": "code",
      "source": [
        "import sys\n",
        "print(sys.version)\n",
        "!wget https://repo.anaconda.com/miniconda/Miniconda3-py37_4.10.3-Linux-x86_64.sh\n",
        "!bash Miniconda3-py*.sh -bfp /usr/local\n",
        "!conda config --set always_yes yes\n",
        "!conda config --add channels conda-forge\n",
        "!conda create -n openmm python=3.7 cudatoolkit=10.0 git jupyterlab numpy pandas scipy matplotlib ipympl rdkit openbabel openmm mdtraj pymbar pdbfixer parmed openff-toolkit openmoltools openmmforcefields\n",
        "sys.path.append('/usr/local/envs/openmm/lib/python3.7/site-packages')\n",
        "import openmm.testInstallation\n",
        "openmm.testInstallation.main()"
      ],
      "metadata": {
        "id": "urH7K4xTTzF8"
      },
      "execution_count": null,
      "outputs": []
    },
    {
      "cell_type": "markdown",
      "source": [
        "VS Code will be used as a text editor "
      ],
      "metadata": {
        "id": "tkAitIpTE_37"
      }
    },
    {
      "cell_type": "markdown",
      "source": [
        "**Install dependencies** <br>\n",
        "It will take a few minutes, please wait :) "
      ],
      "metadata": {
        "id": "POJXnkzC1Nrk"
      }
    },
    {
      "cell_type": "code",
      "source": [
        "# install dependencies\n",
        "!pip -q install py3Dmol 2>&1 1>/dev/null\n",
        "!pip install --upgrade MDAnalysis 2>&1 1>/dev/null\n",
        "!pip install biopandas 2>&1 1>/dev/null\n",
        "# install conda\n",
        "!wget -qnc https://repo.anaconda.com/miniconda/Miniconda3-latest-Linux-x86_64.sh \n",
        "!bash Miniconda3-latest-Linux-x86_64.sh -bfp /usr/local 2>&1 1>/dev/null\n",
        "!rm Miniconda3-latest-Linux-x86_64.sh\n",
        "!conda install -y -q -c conda-forge openmm=7.6 python=3.7 pdbfixer 2>&1 1>/dev/null\n",
        "!conda install -c conda-forge ambertools --yes 2>&1 1>/dev/null\n",
        "!conda install -c ambermd pytraj  --yes 2>&1 1>/dev/null\n",
        "#load dependencies\n",
        "import sys\n",
        "sys.path.append('/usr/local/lib/python3.7/site-packages/')\n",
        "from biopandas.pdb import PandasPdb\n",
        "import openmm as mm\n",
        "from openmm import *\n",
        "from openmm.app import *\n",
        "from openmm.unit import *\n",
        "import os\n",
        "import urllib.request  \n",
        "import numpy as np\n",
        "import MDAnalysis as mda\n",
        "import py3Dmol\n",
        "from __future__ import print_function\n",
        "import pytraj as pt\n",
        "import platform\n",
        "import scipy.cluster.hierarchy\n",
        "from scipy.spatial.distance import squareform\n",
        "import scipy.stats as stats\n",
        "import matplotlib.pyplot as plt\n",
        "import pandas as pd\n",
        "from scipy.interpolate import griddata\n",
        "import seaborn as sb\n",
        "from statistics import mean, stdev\n",
        "from pytraj import matrix\n",
        "from matplotlib import colors\n",
        "from IPython.display import set_matplotlib_formats"
      ],
      "metadata": {
        "id": "YnQqZ-sn1K7w"
      },
      "execution_count": null,
      "outputs": []
    },
    {
      "cell_type": "markdown",
      "source": [
        "#Introduction\n",
        "\n",
        "Computational Chemistry is a field which uses calculations perfomed on computers to predict real world properties of molecules. Though, percise quantum mechanics can be calculculated, it is often taxing; thus, the braod category of computational chemistry is based off classical Newtonian physics. \n",
        "\n",
        "The full expression of a mathematical model for a molecule is often called a force field. "
      ],
      "metadata": {
        "id": "x9rkW2ujV00H"
      }
    },
    {
      "cell_type": "markdown",
      "source": [
        "**Do not run bottom code** \n",
        "Below is the XML file for butane describing it's force field  "
      ],
      "metadata": {
        "id": "JuT4cGenYAXg"
      }
    },
    {
      "cell_type": "code",
      "source": [
        "<ForceField>\n",
        " <AtomTypes>\n",
        "  <Type name=\"0\" class=\"c3\" element=\"C\" mass=\"12.01078\"/>\n",
        "  <Type name=\"1\" class=\"c3\" element=\"C\" mass=\"12.01078\"/>\n",
        "  <Type name=\"2\" class=\"hc\" element=\"H\" mass=\"1.007947\"/>\n",
        "  <Type name=\"3\" class=\"hc\" element=\"H\" mass=\"1.007947\"/>\n",
        " </AtomTypes>\n",
        " <Residues>\n",
        "  <Residue name=\"NBU\">\n",
        "   <Atom name=\"C1\" type=\"0\"/>\n",
        "   <Atom name=\"H11\" type=\"2\"/>\n",
        "   <Atom name=\"H12\" type=\"2\"/>\n",
        "   <Atom name=\"H13\" type=\"2\"/>\n",
        "   <Atom name=\"C2\" type=\"1\"/>\n",
        "   <Atom name=\"H21\" type=\"3\"/>\n",
        "   <Atom name=\"H22\" type=\"3\"/>\n",
        "   <Atom name=\"C3\" type=\"1\"/>\n",
        "   <Atom name=\"H31\" type=\"3\"/>\n",
        "   <Atom name=\"H32\" type=\"3\"/>\n",
        "   <Atom name=\"C4\" type=\"0\"/>\n",
        "   <Atom name=\"H41\" type=\"2\"/>\n",
        "   <Atom name=\"H42\" type=\"2\"/>\n",
        "   <Atom name=\"H43\" type=\"2\"/>\n",
        "\n",
        "   # TODO: ***FILL IN THE TOPOLOGY***\n",
        "   #Carbon 1\n",
        "   <Bond atomName1=\"C1\" atomName2=\"H11\"/>\n",
        "   <Bond atomName1=\"C1\" atomName2=\"H12\"/>\n",
        "   <Bond atomName1=\"C1\" atomName2=\"H13\"/>\n",
        "   <Bond atomName1=\"C1\" atomName2=\"C1\"/>\n",
        "\n",
        "   #Carbon 2\n",
        "   <Bond atomName1=\"C2\" atomName2=\"H21\"/>\n",
        "   <Bond atomName1=\"C2\" atomName2=\"H22\"/>\n",
        "   <Bond atomName1=\"C2\" atomName2=\"C3\"/>\n",
        "\n",
        "   #Carbon 3\n",
        "   <Bond atomName1=\"C3\" atomName2=\"H31\"/>\n",
        "   <Bond atomName1=\"C3\" atomName2=\"H32\"/>\n",
        "   <Bond atomName1=\"C3\" atomName2=\"C4\"/>\n",
        "\n",
        "   #Carbon 4\n",
        "   <Bond atomName1=\"C4\" atomName2=\"H41\"/>\n",
        "   <Bond atomName1=\"C4\" atomName2=\"H42\"/>\n",
        "   <Bond atomName1=\"C4\" atomName2=\"H43\"/>\n",
        "   \n",
        "  </Residue>\n",
        " </Residues>\n",
        " <HarmonicBondForce>\n",
        "  # TODO: ***FILL IN THE BOND PARAMETERS***\n",
        "  <Bond class1=\"c3\" class2=\"c3\" length=\"0.15380\" k=\"1945727.36\"/>\n",
        "  <Bond class1=\"c3\" class2=\"hc\" length=\"0.10970\" k=\"3145687.56\"/>\n",
        "\n",
        " </HarmonicBondForce>\n",
        " <HarmonicAngleForce>\n",
        "  # TODO: ***FILL IN THE ANGLE PARAMETERS***\n",
        "  <Angle class1=\"c3\" class2=\"c3\" class3=\"c3\" angle=\"1.94621665\" k=\"542.982784\"/>\n",
        "  <Angle class1=\"c3\" class2=\"c3\" class3=\"hc\" angle=\"1.91637152\" k=\"391.756288\"/>\n",
        "  <Angle class1=\"hc\" class2=\"c3\" class3=\"hc\" angle=\"1.87762521\" k=\"326.01728\"/>\n",
        " </HarmonicAngleForce>\n",
        " <PeriodicTorsionForce>\n",
        "  # TODO: ***FILL IN THE TORSION PARAMETERS***\n",
        "  <Proper class1=\"c3\" class2=\"c3\" class3=\"c3\" class4=\"c3\" periodicity1=\"3\" phase1=\"0.0\" k1=\"0.5439\" periodicity2=\"2\" phase2=\"3.1416\" k2=\"1.2134\" periodicity3=\"1\" phase3=\"0.0\" k3=\"0.4602\"/>\n",
        "  <Proper class1=\"c3\" class2=\"c3\" class3=\"c3\" class4=\"hc\" periodicity1=\"3\" phase1=\"0.0\" k1=\"0.3347\"/>\n",
        "  <Proper class1=\"hc\" class2=\"c3\" class3=\"c3\" class4=\"hc\" periodicity1=\"3\" phase1=\"0.0\" k1=\"0.50208\"/>\n",
        " </PeriodicTorsionForce>\n",
        " <NonbondedForce coulomb14scale=\"0.833333\" lj14scale=\"0.5\">\n",
        "  # TODO: ***FILL IN THE NONBONDED PARAMETERS***\n",
        "  <Atom type=\"0\" charge=\"-0.0932\" sigma=\"0.3397710\" epsilon=\"0.4510352\"/>\n",
        "  <Atom type=\"1\" charge=\"-0.0814\" sigma=\"0.3397710\" epsilon=\"0.4510352\"/>\n",
        "  <Atom type=\"2\" charge=\"0.0324\" sigma=\"0.2600177\" epsilon=\"0.0870272\"/>\n",
        "  <Atom type=\"3\" charge=\"0.0387\" sigma=\"0.2600177\" epsilon=\"0.0870272\"/>\n",
        " </NonbondedForce>\n",
        "</ForceField>"
      ],
      "metadata": {
        "id": "q6zUZIw-vozw"
      },
      "execution_count": null,
      "outputs": []
    },
    {
      "cell_type": "markdown",
      "source": [
        "#MD Simulation of Alkanes\n",
        "\n",
        "Molecular dynamics simulates molcules in time by calculating the forces on atoms and updating their positions based on those forces. \n",
        "\n",
        "You have atoms with initial positoins and velocities at time=0. You can use these positions to calculate potential energy and the forces on each atom, and generating new positions. Δt=1 femtosecond typically. \n",
        "\n",
        "Procedure: \n",
        "- **Initialization** - Build the system including the topology (connectivity), forcefield parameters, and setting simulation details such as temperature and integrator.\n",
        "- **Minimization** - A brief energy minimization to eliminate “bad” interatomic contacts (i.e., ones that would cause high forces) that would result in a numerically unstable simulation.\n",
        "- **Equilibration** - A brief MD simulation for the purpose of bringing the system temperature or temperature and volume to the desired equilibrium values.\n",
        "- **Production** - A long MD simulation for the purpose of collecting data.\n",
        "- **Analysis** - After you have collected your data from the production run, you must analyze the trajectory to draw conclusions."
      ],
      "metadata": {
        "id": "nRca7ApfFp9l"
      }
    },
    {
      "cell_type": "markdown",
      "source": [
        "**BELOW** is the simulation of Butane"
      ],
      "metadata": {
        "id": "7cez4I53PwQ8"
      }
    },
    {
      "cell_type": "markdown",
      "source": [
        "**Simulation Initialization**"
      ],
      "metadata": {
        "id": "WJzqOmsDLS4A"
      }
    },
    {
      "cell_type": "code",
      "source": [
        "# Import libraries\n",
        "from openmm import app\n",
        "import openmm as mm\n",
        "from openmm import unit"
      ],
      "metadata": {
        "id": "rdb2ilGEH6s1"
      },
      "execution_count": 10,
      "outputs": []
    },
    {
      "cell_type": "code",
      "source": [
        "# Create Forcefields \n",
        "pdb = app.PDBFile(\"/content/drive/MyDrive/School /CHEM 96: Computational Chem /Project 1/data/butane.pdb\")\n",
        "forcefield = app.ForceField(\"/content/drive/MyDrive/School /CHEM 96: Computational Chem /Project 1/data/butane.gaff2.xml\")"
      ],
      "metadata": {
        "id": "MPhbN44TJsCP"
      },
      "execution_count": 11,
      "outputs": []
    },
    {
      "cell_type": "code",
      "source": [
        "# Set up the system for MD simulation\n",
        "# @params: no cutoff & constrain bonds with hydrogens\n",
        "system = forcefield.createSystem(pdb.topology, nonbondedMethod=app.NoCutoff, constraints=app.HBonds)"
      ],
      "metadata": {
        "id": "ed70XvTVKFsX"
      },
      "execution_count": 12,
      "outputs": []
    },
    {
      "cell_type": "code",
      "source": [
        "# Integreate Newton's equations of motion\n",
        "# Using Langevin Integrator, T = 298.15 K, in vacuum\n",
        "# stochastic integrator with 5.0 picosecond coupling constant\n",
        "integrator = mm.LangevinIntegrator(298.15*unit.kelvin, 5.0/unit.picoseconds, 2.0*unit.femtoseconds)\n",
        "integrator.setConstraintTolerance(1e-5)"
      ],
      "metadata": {
        "id": "tYUukB8mKm93"
      },
      "execution_count": 13,
      "outputs": []
    },
    {
      "cell_type": "code",
      "source": [
        "# Concatenate all the simulation pieces\n",
        "platform = mm.Platform.getPlatformByName('Reference')\n",
        "simulation = app.Simulation(pdb.topology, system, integrator, platform)\n",
        "simulation.context.setPositions(pdb.positions)"
      ],
      "metadata": {
        "id": "Ot-qSgnDLIT5"
      },
      "execution_count": 14,
      "outputs": []
    },
    {
      "cell_type": "markdown",
      "source": [
        "**Energy Minimization** "
      ],
      "metadata": {
        "id": "ghD3qIJ5LWts"
      }
    },
    {
      "cell_type": "code",
      "source": [
        "# Moves aatoms of the molecule slightly to get a local min in energy\n",
        "print('Minimizing...')\n",
        "\n",
        "st = simulation.context.getState(getPositions=True,getEnergy=True)\n",
        "print(F\"Potential energy before minimization is {st.getPotentialEnergy()}\")\n",
        "\n",
        "simulation.minimizeEnergy(maxIterations=100)\n",
        "\n",
        "st = simulation.context.getState(getPositions=True,getEnergy=True)\n",
        "print(F\"Potential energy after minimization is {st.getPotentialEnergy()}\")"
      ],
      "metadata": {
        "colab": {
          "base_uri": "https://localhost:8080/"
        },
        "id": "CQAKzKfuLch6",
        "outputId": "a621ad26-d3f5-41b3-a0a7-7d205396c7cf"
      },
      "execution_count": 15,
      "outputs": [
        {
          "output_type": "stream",
          "name": "stdout",
          "text": [
            "Minimizing...\n",
            "Potential energy before minimization is 5.797528692127868 kJ/mol\n",
            "Potential energy after minimization is 5.295784483017471 kJ/mol\n"
          ]
        }
      ]
    },
    {
      "cell_type": "markdown",
      "source": [
        "**Equilibration** "
      ],
      "metadata": {
        "id": "-BUN02AFLrr8"
      }
    },
    {
      "cell_type": "code",
      "source": [
        "# Purpose of equilibration is to get system to target temp and ready for production run.\n",
        "# stdout asks program to print information. \n",
        "from sys import stdout\n",
        "\n",
        "print('Equilibrating...')\n",
        "\n",
        "simulation.reporters.append(app.StateDataReporter(stdout, 100, step=True, \n",
        "    potentialEnergy=True, temperature=True, separator=','))\n",
        "simulation.context.setVelocitiesToTemperature(150.0*unit.kelvin)\n",
        "simulation.step(2500)\n"
      ],
      "metadata": {
        "colab": {
          "base_uri": "https://localhost:8080/"
        },
        "id": "_2cFK8BvLuK0",
        "outputId": "e781f8c2-cea9-44f1-f3f7-172f6d500b37"
      },
      "execution_count": 16,
      "outputs": [
        {
          "output_type": "stream",
          "name": "stdout",
          "text": [
            "Equilibrating...\n",
            "#\"Step\",\"Potential Energy (kJ/mole)\",\"Temperature (K)\"\n",
            "100,32.462463170022396,199.50775241096343\n",
            "200,32.56430680771442,315.2871478384997\n",
            "300,54.461220389395336,367.1734202473054\n",
            "400,32.79293723456541,311.07059207838034\n",
            "500,44.73758293643917,246.90701700862155\n",
            "600,47.498316783343206,327.3471036214838\n",
            "700,32.56638939458919,327.8128152922315\n",
            "800,40.69787114330442,273.55376178627097\n",
            "900,51.40063436019024,370.23475035816944\n",
            "1000,38.964995296804524,238.16342312474842\n",
            "1100,64.25465205896604,248.20943579230016\n",
            "1200,46.39722026178076,387.22484886538524\n",
            "1300,46.332899368432436,345.232773073269\n",
            "1400,44.301177186010676,241.34711283717337\n",
            "1500,24.395400620912476,376.2802205303724\n",
            "1600,45.46015273031723,323.85274756480703\n",
            "1700,41.280118745687375,500.77153936724295\n",
            "1800,46.723030421422784,335.32840594242566\n",
            "1900,40.892424015591075,290.48694592505433\n",
            "2000,34.42507407884489,211.64294707238832\n",
            "2100,55.697910799737876,167.2817305765803\n",
            "2200,44.0156646483935,243.33663677585255\n",
            "2300,44.75491511510752,235.21063378839645\n",
            "2400,48.165880335851654,271.48470547974324\n",
            "2500,37.57392197775077,230.37496995129973\n"
          ]
        }
      ]
    },
    {
      "cell_type": "markdown",
      "source": [
        "**Production** <br>\n",
        "\n",
        "out = step number, simulation time, pot energy, temp, and \"speed\" for steps\n",
        "\n",
        "\"speed\" is reported in ns/day or how many nanoseconds would pass for 24 hours of computation time."
      ],
      "metadata": {
        "id": "5Tru0F6dMclZ"
      }
    },
    {
      "cell_type": "code",
      "source": [
        "# Longer block of simulation\n",
        "# includes timer \n",
        "import time as time\n",
        "\n",
        "print('Running Production...')\n",
        "\n",
        "# Begin timer\n",
        "tinit=time.time()\n",
        "\n",
        "# Clear simulation reporters\n",
        "simulation.reporters.clear()\n",
        "\n",
        "# Reinitialize simulation reporters. We do this because we want different information printed from the production run than the equilibration run.\n",
        "# output basic simulation information below every 250000 steps - (which is equal to 2 fs(250,000) = 500,000 fs = 500 ps)\n",
        "simulation.reporters.append(app.StateDataReporter(stdout, 250000, \n",
        "    step=True, time=True, potentialEnergy=True, temperature=True, \n",
        "    speed=True, separator=','))\n",
        "\n",
        "# write out a trajectory (i.e., coordinates vs. time) to a DCD\n",
        "# file every 100 steps - 0.2 ps\n",
        "simulation.reporters.append(app.DCDReporter('butane_sim.dcd', 100))\n",
        "\n",
        "# run the simulation for 1.0x10^7 steps - 20 ns\n",
        "simulation.step(10000000)\n",
        "\n",
        "# End timer\n",
        "tfinal=time.time()\n",
        "print('Done!')\n",
        "print('Time required for simulation:', tfinal-tinit, 'seconds')"
      ],
      "metadata": {
        "colab": {
          "base_uri": "https://localhost:8080/"
        },
        "id": "5gYMPWRqMebB",
        "outputId": "8e557c78-9e85-4f95-af4f-77bbf0af94b0"
      },
      "execution_count": 17,
      "outputs": [
        {
          "output_type": "stream",
          "name": "stdout",
          "text": [
            "Running Production...\n",
            "#\"Step\",\"Time (ps)\",\"Potential Energy (kJ/mole)\",\"Temperature (K)\",\"Speed (ns/day)\"\n",
            "250000,500.0000000016593,61.93720714888973,406.89137039267194,0\n",
            "500000,999.9999999901769,27.58345076605716,153.55334316578325,1.18e+04\n",
            "750000,1499.9999999783536,60.453639937876254,298.2908837930272,1.19e+04\n",
            "1000000,1999.9999999665301,49.726549487554166,347.7942803354274,1.19e+04\n",
            "1250000,2499.9999999547067,36.30412051879972,460.2705263609501,1.2e+04\n",
            "1500000,2999.9999999428833,52.51655877543964,376.0313254609211,1.2e+04\n",
            "1750000,3499.99999993106,56.470793554828006,204.30532560786324,1.2e+04\n",
            "2000000,3999.9999999192364,39.61353610334437,307.7588622339719,1.19e+04\n",
            "2250000,4499.9999999992715,50.77529870766908,309.9043457585715,1.19e+04\n",
            "2500000,5000.000000101135,22.80447838291741,372.66796296229694,1.19e+04\n",
            "2750000,5500.000000202998,26.24324990217541,266.10602314981963,1.19e+04\n",
            "3000000,6000.000000304862,37.374013577025806,372.01516062736295,1.19e+04\n",
            "3250000,6500.000000406725,41.79871049255328,398.5290039304499,1.19e+04\n",
            "3500000,7000.0000005085885,44.991078949460544,293.89350149555685,1.19e+04\n",
            "3750000,7500.000000610452,52.60585671215071,439.72564830308164,1.19e+04\n",
            "4000000,8000.000000712315,34.56480774744062,182.18620838431377,1.19e+04\n",
            "4250000,8500.000000814178,37.77091452265034,270.0758419173491,1.19e+04\n",
            "4500000,9000.000000916041,54.122555857198506,367.3294899144772,1.19e+04\n",
            "4750000,9500.000001017905,51.35835997153382,289.9977413393838,1.19e+04\n",
            "5000000,10000.000001119768,46.09920373783618,426.9634960031631,1.19e+04\n",
            "5250000,10500.000001221631,25.645112453989427,298.2547888182686,1.19e+04\n",
            "5500000,11000.000001323495,37.11169966792359,352.90385923751063,1.19e+04\n",
            "5750000,11500.000001425358,34.68034958745336,259.16642699665783,1.19e+04\n",
            "6000000,12000.000001527222,39.48337382689806,286.0174885819507,1.19e+04\n",
            "6250000,12500.000001629085,51.79932406705585,215.06244085547195,1.19e+04\n",
            "6500000,13000.000001730948,28.499875797354647,320.9842883578939,1.19e+04\n",
            "6750000,13500.000001832812,40.851441837942644,208.09704998541343,1.19e+04\n",
            "7000000,14000.000001934675,58.85939760090448,214.70014409400486,1.19e+04\n",
            "7250000,14500.000002036539,46.425455662575104,321.75354928488235,1.19e+04\n",
            "7500000,15000.000002138402,42.130385979833825,237.67423773531732,1.19e+04\n",
            "7750000,15500.000002240266,40.820266265511606,245.05449008433075,1.19e+04\n",
            "8000000,16000.000002342129,24.54274959272213,270.36574088119517,1.19e+04\n",
            "8250000,16500.00000244399,49.29629325119274,239.93868474558295,1.19e+04\n",
            "8500000,17000.000002545854,47.80572147796384,225.52911026155724,1.19e+04\n",
            "8750000,17500.000002647717,47.47921439135009,280.0225323407505,1.19e+04\n",
            "9000000,18000.00000274958,49.243080244835625,169.24734191214304,1.19e+04\n",
            "9250000,18500.000002851444,40.81738801447197,294.3852378895549,1.18e+04\n",
            "9500000,19000.000002953308,37.12381561754135,264.8858324633955,1.18e+04\n",
            "9750000,19500.00000305517,24.31499611737025,320.87759315153033,1.18e+04\n",
            "10000000,20000.000003157034,47.4856714803941,251.65505819651713,1.19e+04\n",
            "Done!\n",
            "Time required for simulation: 145.8474612236023 seconds\n"
          ]
        }
      ]
    },
    {
      "cell_type": "markdown",
      "source": [
        "#**Analysis of Ethane** <br> "
      ],
      "metadata": {
        "id": "Y_6-JMhpRoU6"
      }
    },
    {
      "cell_type": "code",
      "source": [
        "# nglview -> vixualize trajectory\n",
        "# MDTraj to analyze trajectory\n",
        "!conda install -c conda-forge mdtraj "
      ],
      "metadata": {
        "id": "F7LOb7mwQF5T"
      },
      "execution_count": null,
      "outputs": []
    },
    {
      "cell_type": "code",
      "source": [
        "# The command reads all atomic positiosn and keep tracks of atom connectivity (topology)\n",
        "import mdtraj as md\n",
        "traj = md.load('/content/drive/MyDrive/School /CHEM 96: Computational Chem /Project 1/data/ethane_sim.dcd', top='/content/drive/MyDrive/School /CHEM 96: Computational Chem /Project 1/data/ethane.pdb')\n"
      ],
      "metadata": {
        "id": "SYZfUqdtRxpr"
      },
      "execution_count": 19,
      "outputs": []
    },
    {
      "cell_type": "code",
      "source": [
        "!pip install -q nglview pytraj\n",
        "from google.colab import output\n",
        "output.enable_custom_widget_manager()"
      ],
      "metadata": {
        "id": "V2U_kwfss-lf"
      },
      "execution_count": null,
      "outputs": []
    },
    {
      "cell_type": "code",
      "source": [
        "#provides visuals\n",
        "import nglview as ngl\n",
        "\n",
        "visualize = ngl.show_mdtraj(traj)\n",
        "visualize"
      ],
      "metadata": {
        "colab": {
          "base_uri": "https://localhost:8080/",
          "height": 337,
          "referenced_widgets": [
            "1b81072c6db64ec784ff9ead07454b56",
            "ec275172df3d4390b2b17bdfccd77451",
            "2ca37b3afea54a4ea24444d955caf7cf",
            "0448e1a6a6d64c9eb278d40051bbf0a9",
            "ac904dfcc8d54614953bf5cd781bc5f6",
            "e2185a726b324b388d5822493f20d258",
            "91f2b672568b446f862c526b5e4d331c",
            "b8e92948172845bfa55fca2290ec3475",
            "d0b13dda38f94f419cac58526a58d9bf",
            "76625543b8bf4292a0698296d6b75269",
            "149e0d44fb3d437a99d88fc609304b8f",
            "1b475b117ef544be9e4f06a3867a12f5",
            "9786baf317c945ca811152d959315ee1"
          ]
        },
        "id": "YIJPfKrqtn2j",
        "outputId": "bd51f385-360d-496b-e6b8-4bbf10639492"
      },
      "execution_count": 20,
      "outputs": [
        {
          "output_type": "display_data",
          "data": {
            "application/vnd.jupyter.widget-view+json": {
              "model_id": "1b81072c6db64ec784ff9ead07454b56",
              "version_minor": 0,
              "version_major": 2
            },
            "text/plain": [
              "NGLWidget(max_frame=99999)"
            ]
          },
          "metadata": {
            "application/vnd.jupyter.widget-view+json": {
              "colab": {
                "custom_widget_manager": {
                  "url": "https://ssl.gstatic.com/colaboratory-static/widgets/colab-cdn-widget-manager/a8874ba6619b6106/manager.min.js"
                }
              }
            }
          }
        }
      ]
    },
    {
      "cell_type": "code",
      "source": [
        "# Pull out bonds and atoms for analysis \n",
        "# @return: dataframe\n",
        "atoms, bonds = traj.topology.to_dataframe()\n",
        "atoms"
      ],
      "metadata": {
        "colab": {
          "base_uri": "https://localhost:8080/",
          "height": 300
        },
        "id": "cGO-izCWd1Cw",
        "outputId": "2e98ea23-985d-4fd3-9d86-4ffb3c220748"
      },
      "execution_count": 21,
      "outputs": [
        {
          "output_type": "execute_result",
          "data": {
            "text/html": [
              "\n",
              "  <div id=\"df-82d78467-e067-4ab7-ae3c-c987845b48f4\">\n",
              "    <div class=\"colab-df-container\">\n",
              "      <div>\n",
              "<style scoped>\n",
              "    .dataframe tbody tr th:only-of-type {\n",
              "        vertical-align: middle;\n",
              "    }\n",
              "\n",
              "    .dataframe tbody tr th {\n",
              "        vertical-align: top;\n",
              "    }\n",
              "\n",
              "    .dataframe thead th {\n",
              "        text-align: right;\n",
              "    }\n",
              "</style>\n",
              "<table border=\"1\" class=\"dataframe\">\n",
              "  <thead>\n",
              "    <tr style=\"text-align: right;\">\n",
              "      <th></th>\n",
              "      <th>serial</th>\n",
              "      <th>name</th>\n",
              "      <th>element</th>\n",
              "      <th>resSeq</th>\n",
              "      <th>resName</th>\n",
              "      <th>chainID</th>\n",
              "      <th>segmentID</th>\n",
              "    </tr>\n",
              "  </thead>\n",
              "  <tbody>\n",
              "    <tr>\n",
              "      <th>0</th>\n",
              "      <td>1</td>\n",
              "      <td>C1</td>\n",
              "      <td>C</td>\n",
              "      <td>1</td>\n",
              "      <td>ETH</td>\n",
              "      <td>0</td>\n",
              "      <td></td>\n",
              "    </tr>\n",
              "    <tr>\n",
              "      <th>1</th>\n",
              "      <td>2</td>\n",
              "      <td>H11</td>\n",
              "      <td>H</td>\n",
              "      <td>1</td>\n",
              "      <td>ETH</td>\n",
              "      <td>0</td>\n",
              "      <td></td>\n",
              "    </tr>\n",
              "    <tr>\n",
              "      <th>2</th>\n",
              "      <td>3</td>\n",
              "      <td>H12</td>\n",
              "      <td>H</td>\n",
              "      <td>1</td>\n",
              "      <td>ETH</td>\n",
              "      <td>0</td>\n",
              "      <td></td>\n",
              "    </tr>\n",
              "    <tr>\n",
              "      <th>3</th>\n",
              "      <td>4</td>\n",
              "      <td>H13</td>\n",
              "      <td>H</td>\n",
              "      <td>1</td>\n",
              "      <td>ETH</td>\n",
              "      <td>0</td>\n",
              "      <td></td>\n",
              "    </tr>\n",
              "    <tr>\n",
              "      <th>4</th>\n",
              "      <td>5</td>\n",
              "      <td>C2</td>\n",
              "      <td>C</td>\n",
              "      <td>1</td>\n",
              "      <td>ETH</td>\n",
              "      <td>0</td>\n",
              "      <td></td>\n",
              "    </tr>\n",
              "    <tr>\n",
              "      <th>5</th>\n",
              "      <td>6</td>\n",
              "      <td>H21</td>\n",
              "      <td>H</td>\n",
              "      <td>1</td>\n",
              "      <td>ETH</td>\n",
              "      <td>0</td>\n",
              "      <td></td>\n",
              "    </tr>\n",
              "    <tr>\n",
              "      <th>6</th>\n",
              "      <td>7</td>\n",
              "      <td>H22</td>\n",
              "      <td>H</td>\n",
              "      <td>1</td>\n",
              "      <td>ETH</td>\n",
              "      <td>0</td>\n",
              "      <td></td>\n",
              "    </tr>\n",
              "    <tr>\n",
              "      <th>7</th>\n",
              "      <td>8</td>\n",
              "      <td>H23</td>\n",
              "      <td>H</td>\n",
              "      <td>1</td>\n",
              "      <td>ETH</td>\n",
              "      <td>0</td>\n",
              "      <td></td>\n",
              "    </tr>\n",
              "  </tbody>\n",
              "</table>\n",
              "</div>\n",
              "      <button class=\"colab-df-convert\" onclick=\"convertToInteractive('df-82d78467-e067-4ab7-ae3c-c987845b48f4')\"\n",
              "              title=\"Convert this dataframe to an interactive table.\"\n",
              "              style=\"display:none;\">\n",
              "        \n",
              "  <svg xmlns=\"http://www.w3.org/2000/svg\" height=\"24px\"viewBox=\"0 0 24 24\"\n",
              "       width=\"24px\">\n",
              "    <path d=\"M0 0h24v24H0V0z\" fill=\"none\"/>\n",
              "    <path d=\"M18.56 5.44l.94 2.06.94-2.06 2.06-.94-2.06-.94-.94-2.06-.94 2.06-2.06.94zm-11 1L8.5 8.5l.94-2.06 2.06-.94-2.06-.94L8.5 2.5l-.94 2.06-2.06.94zm10 10l.94 2.06.94-2.06 2.06-.94-2.06-.94-.94-2.06-.94 2.06-2.06.94z\"/><path d=\"M17.41 7.96l-1.37-1.37c-.4-.4-.92-.59-1.43-.59-.52 0-1.04.2-1.43.59L10.3 9.45l-7.72 7.72c-.78.78-.78 2.05 0 2.83L4 21.41c.39.39.9.59 1.41.59.51 0 1.02-.2 1.41-.59l7.78-7.78 2.81-2.81c.8-.78.8-2.07 0-2.86zM5.41 20L4 18.59l7.72-7.72 1.47 1.35L5.41 20z\"/>\n",
              "  </svg>\n",
              "      </button>\n",
              "      \n",
              "  <style>\n",
              "    .colab-df-container {\n",
              "      display:flex;\n",
              "      flex-wrap:wrap;\n",
              "      gap: 12px;\n",
              "    }\n",
              "\n",
              "    .colab-df-convert {\n",
              "      background-color: #E8F0FE;\n",
              "      border: none;\n",
              "      border-radius: 50%;\n",
              "      cursor: pointer;\n",
              "      display: none;\n",
              "      fill: #1967D2;\n",
              "      height: 32px;\n",
              "      padding: 0 0 0 0;\n",
              "      width: 32px;\n",
              "    }\n",
              "\n",
              "    .colab-df-convert:hover {\n",
              "      background-color: #E2EBFA;\n",
              "      box-shadow: 0px 1px 2px rgba(60, 64, 67, 0.3), 0px 1px 3px 1px rgba(60, 64, 67, 0.15);\n",
              "      fill: #174EA6;\n",
              "    }\n",
              "\n",
              "    [theme=dark] .colab-df-convert {\n",
              "      background-color: #3B4455;\n",
              "      fill: #D2E3FC;\n",
              "    }\n",
              "\n",
              "    [theme=dark] .colab-df-convert:hover {\n",
              "      background-color: #434B5C;\n",
              "      box-shadow: 0px 1px 3px 1px rgba(0, 0, 0, 0.15);\n",
              "      filter: drop-shadow(0px 1px 2px rgba(0, 0, 0, 0.3));\n",
              "      fill: #FFFFFF;\n",
              "    }\n",
              "  </style>\n",
              "\n",
              "      <script>\n",
              "        const buttonEl =\n",
              "          document.querySelector('#df-82d78467-e067-4ab7-ae3c-c987845b48f4 button.colab-df-convert');\n",
              "        buttonEl.style.display =\n",
              "          google.colab.kernel.accessAllowed ? 'block' : 'none';\n",
              "\n",
              "        async function convertToInteractive(key) {\n",
              "          const element = document.querySelector('#df-82d78467-e067-4ab7-ae3c-c987845b48f4');\n",
              "          const dataTable =\n",
              "            await google.colab.kernel.invokeFunction('convertToInteractive',\n",
              "                                                     [key], {});\n",
              "          if (!dataTable) return;\n",
              "\n",
              "          const docLinkHtml = 'Like what you see? Visit the ' +\n",
              "            '<a target=\"_blank\" href=https://colab.research.google.com/notebooks/data_table.ipynb>data table notebook</a>'\n",
              "            + ' to learn more about interactive tables.';\n",
              "          element.innerHTML = '';\n",
              "          dataTable['output_type'] = 'display_data';\n",
              "          await google.colab.output.renderOutput(dataTable, element);\n",
              "          const docLink = document.createElement('div');\n",
              "          docLink.innerHTML = docLinkHtml;\n",
              "          element.appendChild(docLink);\n",
              "        }\n",
              "      </script>\n",
              "    </div>\n",
              "  </div>\n",
              "  "
            ],
            "text/plain": [
              "   serial name element  resSeq resName  chainID segmentID\n",
              "0       1   C1       C       1     ETH        0          \n",
              "1       2  H11       H       1     ETH        0          \n",
              "2       3  H12       H       1     ETH        0          \n",
              "3       4  H13       H       1     ETH        0          \n",
              "4       5   C2       C       1     ETH        0          \n",
              "5       6  H21       H       1     ETH        0          \n",
              "6       7  H22       H       1     ETH        0          \n",
              "7       8  H23       H       1     ETH        0          "
            ]
          },
          "metadata": {},
          "execution_count": 21
        }
      ]
    },
    {
      "cell_type": "markdown",
      "source": [
        "Let's decide which atoms from our molecule define bond angle. We have to pick the atom indices for the C-C bond. These are 0 and 4. "
      ],
      "metadata": {
        "id": "eYOGo_P2eCFH"
      }
    },
    {
      "cell_type": "code",
      "source": [
        "bond_indices = [0, 4] # atoms to define the bond length\n",
        "bond_length = md.compute_distances(traj, [bond_indices])"
      ],
      "metadata": {
        "id": "En4qicXjmQcs"
      },
      "execution_count": 22,
      "outputs": []
    },
    {
      "cell_type": "code",
      "source": [
        "import matplotlib.pyplot as plt\n",
        "\n",
        "bondcounts, binedges, otherstuff = plt.hist(bond_length, bins=120)\n",
        "plt.title('C-C bond length histogram')\n",
        "plt.xlabel('Bond length (nm)')\n",
        "plt.ylabel('Counts')\n",
        "plt.show()"
      ],
      "metadata": {
        "colab": {
          "base_uri": "https://localhost:8080/",
          "height": 295
        },
        "id": "Lo4FQzX8mWXb",
        "outputId": "77f0e79d-f7ba-4f06-a243-c27ae590249a"
      },
      "execution_count": 23,
      "outputs": [
        {
          "output_type": "display_data",
          "data": {
            "image/png": "[encoded data removed]",
            "text/plain": [
              "<Figure size 432x288 with 1 Axes>"
            ]
          },
          "metadata": {
            "needs_background": "light"
          }
        }
      ]
    },
    {
      "cell_type": "code",
      "source": [
        "# H-C-C-H torian angle\n",
        "phi_indices = [1, 0, 4, 5] # atoms to define the torsion angle\n",
        "phi = md.compute_dihedrals(traj, [phi_indices])\n",
        "\n",
        "print(phi)\n",
        "\n",
        "import matplotlib.pyplot as plt\n",
        "\n",
        "phicounts, binedges, otherstuff = plt.hist(phi, bins=90) # create a histogram with 90 bins\n",
        "plt.title('H-C-C-H torsion angle')\n",
        "plt.xlabel(r'$\\phi$ (rad)')\n",
        "plt.ylabel('Counts')\n",
        "plt.show()"
      ],
      "metadata": {
        "colab": {
          "base_uri": "https://localhost:8080/",
          "height": 421
        },
        "id": "05a9VhMZma3R",
        "outputId": "c1da134e-ba5c-4712-f27d-d1f2c264b3c8"
      },
      "execution_count": 24,
      "outputs": [
        {
          "output_type": "stream",
          "name": "stdout",
          "text": [
            "[[ 1.2284089 ]\n",
            " [ 0.77280563]\n",
            " [ 1.2600248 ]\n",
            " ...\n",
            " [ 1.6507894 ]\n",
            " [ 2.3919144 ]\n",
            " [-2.9804592 ]]\n"
          ]
        },
        {
          "output_type": "display_data",
          "data": {
            "image/png": "[encoded data removed]",
            "text/plain": [
              "<Figure size 432x288 with 1 Axes>"
            ]
          },
          "metadata": {
            "needs_background": "light"
          }
        }
      ]
    },
    {
      "cell_type": "markdown",
      "source": [
        "**Potential of Mean Force Calculation** <br>\n",
        "\n",
        "we have looked at the distribution of bond lengths and torsion angles for ethane. However, we can also use our simulations to calculate thermodynamics properties of our system. For example, we can use our calculated distributions along with Boltzmann’s constant to calculate the potential of mean force (pmf), or energy change associated with changes in the bond length or torsion angle."
      ],
      "metadata": {
        "id": "L6JYMW1anGs_"
      }
    },
    {
      "cell_type": "code",
      "source": [
        "import numpy as np\n",
        "\n",
        "kB = 8.31446/1000 # Boltzmann constant in kJ/mol\n",
        "Temp = 298.15 # simulation temperature\n",
        "phicounts[phicounts==0] = 0.1 # get rid of any bins with 0 counts/infinite energy\n",
        "pmf = -kB*Temp*np.log(phicounts) # W(x) = -kT*ln[p(x)] = -kT*ln[n(x)] + C\n",
        "pmf = pmf - np.min(pmf) # subtract off minimum value so that energies start from 0\n",
        "\n",
        "bincenters = (binedges[1:] + binedges[:-1])/2 # compute centers of histogram bins\n",
        "\n",
        "plt.plot(bincenters, pmf)\n",
        "plt.title('H-C-C-H torsion pmf')\n",
        "plt.xlabel(r'$\\phi$ (rad)')\n",
        "plt.ylabel('Relative free energy (kJ/mol)')\n",
        "plt.show()"
      ],
      "metadata": {
        "colab": {
          "base_uri": "https://localhost:8080/",
          "height": 299
        },
        "id": "4Pt6V41xnWUi",
        "outputId": "73f7ba27-9627-4424-cbf2-bb285ea07426"
      },
      "execution_count": 26,
      "outputs": [
        {
          "output_type": "display_data",
          "data": {
            "image/png": "[encoded data removed]",
            "text/plain": [
              "<Figure size 432x288 with 1 Axes>"
            ]
          },
          "metadata": {
            "needs_background": "light"
          }
        }
      ]
    },
    {
      "cell_type": "markdown",
      "source": [
        "#**Butane Trajectory Analysis**"
      ],
      "metadata": {
        "id": "P6WWuLr0oWfg"
      }
    },
    {
      "cell_type": "code",
      "source": [
        "traj = md.load('/content/drive/MyDrive/School /CHEM 96: Computational Chem /Project 1/data/butane_sim.dcd', top='/content/drive/MyDrive/School /CHEM 96: Computational Chem /Project 1/data/butane.pdb')\n",
        "atoms, bonds = traj.topology.to_dataframe()\n",
        "atoms"
      ],
      "metadata": {
        "colab": {
          "base_uri": "https://localhost:8080/",
          "height": 488
        },
        "id": "7bWlyVV9orbR",
        "outputId": "8088bf3e-2c28-4ed6-cd8a-07573a511aa1"
      },
      "execution_count": 39,
      "outputs": [
        {
          "output_type": "execute_result",
          "data": {
            "text/html": [
              "\n",
              "  <div id=\"df-9648f41c-c21b-4dbf-8b6e-5740159c5661\">\n",
              "    <div class=\"colab-df-container\">\n",
              "      <div>\n",
              "<style scoped>\n",
              "    .dataframe tbody tr th:only-of-type {\n",
              "        vertical-align: middle;\n",
              "    }\n",
              "\n",
              "    .dataframe tbody tr th {\n",
              "        vertical-align: top;\n",
              "    }\n",
              "\n",
              "    .dataframe thead th {\n",
              "        text-align: right;\n",
              "    }\n",
              "</style>\n",
              "<table border=\"1\" class=\"dataframe\">\n",
              "  <thead>\n",
              "    <tr style=\"text-align: right;\">\n",
              "      <th></th>\n",
              "      <th>serial</th>\n",
              "      <th>name</th>\n",
              "      <th>element</th>\n",
              "      <th>resSeq</th>\n",
              "      <th>resName</th>\n",
              "      <th>chainID</th>\n",
              "      <th>segmentID</th>\n",
              "    </tr>\n",
              "  </thead>\n",
              "  <tbody>\n",
              "    <tr>\n",
              "      <th>0</th>\n",
              "      <td>1</td>\n",
              "      <td>C1</td>\n",
              "      <td>C</td>\n",
              "      <td>1</td>\n",
              "      <td>NBU</td>\n",
              "      <td>0</td>\n",
              "      <td></td>\n",
              "    </tr>\n",
              "    <tr>\n",
              "      <th>1</th>\n",
              "      <td>2</td>\n",
              "      <td>H11</td>\n",
              "      <td>H</td>\n",
              "      <td>1</td>\n",
              "      <td>NBU</td>\n",
              "      <td>0</td>\n",
              "      <td></td>\n",
              "    </tr>\n",
              "    <tr>\n",
              "      <th>2</th>\n",
              "      <td>3</td>\n",
              "      <td>H12</td>\n",
              "      <td>H</td>\n",
              "      <td>1</td>\n",
              "      <td>NBU</td>\n",
              "      <td>0</td>\n",
              "      <td></td>\n",
              "    </tr>\n",
              "    <tr>\n",
              "      <th>3</th>\n",
              "      <td>4</td>\n",
              "      <td>H13</td>\n",
              "      <td>H</td>\n",
              "      <td>1</td>\n",
              "      <td>NBU</td>\n",
              "      <td>0</td>\n",
              "      <td></td>\n",
              "    </tr>\n",
              "    <tr>\n",
              "      <th>4</th>\n",
              "      <td>5</td>\n",
              "      <td>C2</td>\n",
              "      <td>C</td>\n",
              "      <td>1</td>\n",
              "      <td>NBU</td>\n",
              "      <td>0</td>\n",
              "      <td></td>\n",
              "    </tr>\n",
              "    <tr>\n",
              "      <th>5</th>\n",
              "      <td>6</td>\n",
              "      <td>H21</td>\n",
              "      <td>H</td>\n",
              "      <td>1</td>\n",
              "      <td>NBU</td>\n",
              "      <td>0</td>\n",
              "      <td></td>\n",
              "    </tr>\n",
              "    <tr>\n",
              "      <th>6</th>\n",
              "      <td>7</td>\n",
              "      <td>H22</td>\n",
              "      <td>H</td>\n",
              "      <td>1</td>\n",
              "      <td>NBU</td>\n",
              "      <td>0</td>\n",
              "      <td></td>\n",
              "    </tr>\n",
              "    <tr>\n",
              "      <th>7</th>\n",
              "      <td>8</td>\n",
              "      <td>C3</td>\n",
              "      <td>C</td>\n",
              "      <td>1</td>\n",
              "      <td>NBU</td>\n",
              "      <td>0</td>\n",
              "      <td></td>\n",
              "    </tr>\n",
              "    <tr>\n",
              "      <th>8</th>\n",
              "      <td>9</td>\n",
              "      <td>H31</td>\n",
              "      <td>H</td>\n",
              "      <td>1</td>\n",
              "      <td>NBU</td>\n",
              "      <td>0</td>\n",
              "      <td></td>\n",
              "    </tr>\n",
              "    <tr>\n",
              "      <th>9</th>\n",
              "      <td>10</td>\n",
              "      <td>H32</td>\n",
              "      <td>H</td>\n",
              "      <td>1</td>\n",
              "      <td>NBU</td>\n",
              "      <td>0</td>\n",
              "      <td></td>\n",
              "    </tr>\n",
              "    <tr>\n",
              "      <th>10</th>\n",
              "      <td>11</td>\n",
              "      <td>C4</td>\n",
              "      <td>C</td>\n",
              "      <td>1</td>\n",
              "      <td>NBU</td>\n",
              "      <td>0</td>\n",
              "      <td></td>\n",
              "    </tr>\n",
              "    <tr>\n",
              "      <th>11</th>\n",
              "      <td>12</td>\n",
              "      <td>H41</td>\n",
              "      <td>H</td>\n",
              "      <td>1</td>\n",
              "      <td>NBU</td>\n",
              "      <td>0</td>\n",
              "      <td></td>\n",
              "    </tr>\n",
              "    <tr>\n",
              "      <th>12</th>\n",
              "      <td>13</td>\n",
              "      <td>H42</td>\n",
              "      <td>H</td>\n",
              "      <td>1</td>\n",
              "      <td>NBU</td>\n",
              "      <td>0</td>\n",
              "      <td></td>\n",
              "    </tr>\n",
              "    <tr>\n",
              "      <th>13</th>\n",
              "      <td>14</td>\n",
              "      <td>H43</td>\n",
              "      <td>H</td>\n",
              "      <td>1</td>\n",
              "      <td>NBU</td>\n",
              "      <td>0</td>\n",
              "      <td></td>\n",
              "    </tr>\n",
              "  </tbody>\n",
              "</table>\n",
              "</div>\n",
              "      <button class=\"colab-df-convert\" onclick=\"convertToInteractive('df-9648f41c-c21b-4dbf-8b6e-5740159c5661')\"\n",
              "              title=\"Convert this dataframe to an interactive table.\"\n",
              "              style=\"display:none;\">\n",
              "        \n",
              "  <svg xmlns=\"http://www.w3.org/2000/svg\" height=\"24px\"viewBox=\"0 0 24 24\"\n",
              "       width=\"24px\">\n",
              "    <path d=\"M0 0h24v24H0V0z\" fill=\"none\"/>\n",
              "    <path d=\"M18.56 5.44l.94 2.06.94-2.06 2.06-.94-2.06-.94-.94-2.06-.94 2.06-2.06.94zm-11 1L8.5 8.5l.94-2.06 2.06-.94-2.06-.94L8.5 2.5l-.94 2.06-2.06.94zm10 10l.94 2.06.94-2.06 2.06-.94-2.06-.94-.94-2.06-.94 2.06-2.06.94z\"/><path d=\"M17.41 7.96l-1.37-1.37c-.4-.4-.92-.59-1.43-.59-.52 0-1.04.2-1.43.59L10.3 9.45l-7.72 7.72c-.78.78-.78 2.05 0 2.83L4 21.41c.39.39.9.59 1.41.59.51 0 1.02-.2 1.41-.59l7.78-7.78 2.81-2.81c.8-.78.8-2.07 0-2.86zM5.41 20L4 18.59l7.72-7.72 1.47 1.35L5.41 20z\"/>\n",
              "  </svg>\n",
              "      </button>\n",
              "      \n",
              "  <style>\n",
              "    .colab-df-container {\n",
              "      display:flex;\n",
              "      flex-wrap:wrap;\n",
              "      gap: 12px;\n",
              "    }\n",
              "\n",
              "    .colab-df-convert {\n",
              "      background-color: #E8F0FE;\n",
              "      border: none;\n",
              "      border-radius: 50%;\n",
              "      cursor: pointer;\n",
              "      display: none;\n",
              "      fill: #1967D2;\n",
              "      height: 32px;\n",
              "      padding: 0 0 0 0;\n",
              "      width: 32px;\n",
              "    }\n",
              "\n",
              "    .colab-df-convert:hover {\n",
              "      background-color: #E2EBFA;\n",
              "      box-shadow: 0px 1px 2px rgba(60, 64, 67, 0.3), 0px 1px 3px 1px rgba(60, 64, 67, 0.15);\n",
              "      fill: #174EA6;\n",
              "    }\n",
              "\n",
              "    [theme=dark] .colab-df-convert {\n",
              "      background-color: #3B4455;\n",
              "      fill: #D2E3FC;\n",
              "    }\n",
              "\n",
              "    [theme=dark] .colab-df-convert:hover {\n",
              "      background-color: #434B5C;\n",
              "      box-shadow: 0px 1px 3px 1px rgba(0, 0, 0, 0.15);\n",
              "      filter: drop-shadow(0px 1px 2px rgba(0, 0, 0, 0.3));\n",
              "      fill: #FFFFFF;\n",
              "    }\n",
              "  </style>\n",
              "\n",
              "      <script>\n",
              "        const buttonEl =\n",
              "          document.querySelector('#df-9648f41c-c21b-4dbf-8b6e-5740159c5661 button.colab-df-convert');\n",
              "        buttonEl.style.display =\n",
              "          google.colab.kernel.accessAllowed ? 'block' : 'none';\n",
              "\n",
              "        async function convertToInteractive(key) {\n",
              "          const element = document.querySelector('#df-9648f41c-c21b-4dbf-8b6e-5740159c5661');\n",
              "          const dataTable =\n",
              "            await google.colab.kernel.invokeFunction('convertToInteractive',\n",
              "                                                     [key], {});\n",
              "          if (!dataTable) return;\n",
              "\n",
              "          const docLinkHtml = 'Like what you see? Visit the ' +\n",
              "            '<a target=\"_blank\" href=https://colab.research.google.com/notebooks/data_table.ipynb>data table notebook</a>'\n",
              "            + ' to learn more about interactive tables.';\n",
              "          element.innerHTML = '';\n",
              "          dataTable['output_type'] = 'display_data';\n",
              "          await google.colab.output.renderOutput(dataTable, element);\n",
              "          const docLink = document.createElement('div');\n",
              "          docLink.innerHTML = docLinkHtml;\n",
              "          element.appendChild(docLink);\n",
              "        }\n",
              "      </script>\n",
              "    </div>\n",
              "  </div>\n",
              "  "
            ],
            "text/plain": [
              "    serial name element  resSeq resName  chainID segmentID\n",
              "0        1   C1       C       1     NBU        0          \n",
              "1        2  H11       H       1     NBU        0          \n",
              "2        3  H12       H       1     NBU        0          \n",
              "3        4  H13       H       1     NBU        0          \n",
              "4        5   C2       C       1     NBU        0          \n",
              "5        6  H21       H       1     NBU        0          \n",
              "6        7  H22       H       1     NBU        0          \n",
              "7        8   C3       C       1     NBU        0          \n",
              "8        9  H31       H       1     NBU        0          \n",
              "9       10  H32       H       1     NBU        0          \n",
              "10      11   C4       C       1     NBU        0          \n",
              "11      12  H41       H       1     NBU        0          \n",
              "12      13  H42       H       1     NBU        0          \n",
              "13      14  H43       H       1     NBU        0          "
            ]
          },
          "metadata": {},
          "execution_count": 39
        }
      ]
    },
    {
      "cell_type": "code",
      "source": [
        "visualize = ngl.show_mdtraj(traj)\n",
        "visualize"
      ],
      "metadata": {
        "colab": {
          "base_uri": "https://localhost:8080/",
          "height": 317,
          "referenced_widgets": [
            "879bf86992934f849ac17252c3294757",
            "2fe8d31fe19d48ab88e2b3b29b79cfd4",
            "7b747850e35447b3b754851f3ebc556c",
            "d37bac558f5443f39f8ecb2c5f134474",
            "d65616c5f1ca4a72bd0129c74edb2a62",
            "44e7ec906ebb4247b245a246b7c62d67",
            "e40be06cecda4bf0923d18934a29f619",
            "633eea4bf04e4028b9872b12ec604e8d",
            "18a963d5e20a4a16a9a57b48a5505b52",
            "a5f3bac33ee34b81b6141f4c7ef529b3",
            "d9d08ca1d8464a4fa2fbea0f4f74de4a",
            "73c3a8cbccae4555bf6e7ed805090cb1",
            "ed4c9eca68ab4b7cb4823f4679651550"
          ]
        },
        "id": "R5_evWu5ox0C",
        "outputId": "3d2e2885-9362-4396-faeb-b413dadd91e6"
      },
      "execution_count": 40,
      "outputs": [
        {
          "output_type": "display_data",
          "data": {
            "application/vnd.jupyter.widget-view+json": {
              "model_id": "879bf86992934f849ac17252c3294757",
              "version_minor": 0,
              "version_major": 2
            },
            "text/plain": [
              "NGLWidget(max_frame=99999)"
            ]
          },
          "metadata": {
            "application/vnd.jupyter.widget-view+json": {
              "colab": {
                "custom_widget_manager": {
                  "url": "https://ssl.gstatic.com/colaboratory-static/widgets/colab-cdn-widget-manager/a8874ba6619b6106/manager.min.js"
                }
              }
            }
          }
        }
      ]
    },
    {
      "cell_type": "code",
      "source": [
        "# C-C-C-C\n",
        "phi_indices = [0, 4, 7, 10] # atoms to define the torsion angle\n",
        "phi = md.compute_dihedrals(traj, [phi_indices])\n",
        "\n",
        "phicounts, binedges, otherstuff = plt.hist(phi, bins=90) \n",
        "plt.title('C-C-C-C torsion angle')\n",
        "plt.xlabel(r'$\\phi$ (rad)')\n",
        "plt.ylabel('Counts')\n",
        "plt.show()\n",
        "\n",
        "print(np.sum(phicounts))\n"
      ],
      "metadata": {
        "colab": {
          "base_uri": "https://localhost:8080/",
          "height": 316
        },
        "id": "do0b5liMo1sq",
        "outputId": "bb6d1796-7c37-493e-e2ac-cf896fe30919"
      },
      "execution_count": 41,
      "outputs": [
        {
          "output_type": "display_data",
          "data": {
            "image/png": "[encoded data removed]",
            "text/plain": [
              "<Figure size 432x288 with 1 Axes>"
            ]
          },
          "metadata": {
            "needs_background": "light"
          }
        },
        {
          "output_type": "stream",
          "name": "stdout",
          "text": [
            "100000.0\n"
          ]
        }
      ]
    },
    {
      "cell_type": "code",
      "source": [
        "# C-C-C-C torsion PMF\n",
        "B = 8.31446/1000 # Boltzmann constant in kJ/mol\n",
        "Temp = 298.15 # simulation temperature in K\n",
        "phicounts[phicounts==0] = 0.1 # get rid of any bins with 0 counts/infinite energy\n",
        "pmf = -kB*Temp*np.log(phicounts) # W(x) = -kT*ln[p(x)] = -kT*ln[n(x)] + C\n",
        "pmf = pmf - np.min(pmf) # subtract off minimum value so that energies start from 0\n",
        "\n",
        "bincenters = (binedges[1:] + binedges[:-1])/2 # compute centers of histogram bins\n",
        "\n",
        "plt.plot(bincenters, pmf)\n",
        "plt.title('C-C-C-C torsion pmf')\n",
        "plt.xlabel(r'$\\phi$ (rad)')\n",
        "plt.ylabel('Relative free energy (kJ/mol)')\n",
        "plt.show()"
      ],
      "metadata": {
        "colab": {
          "base_uri": "https://localhost:8080/",
          "height": 299
        },
        "id": "lySMaWELpEUA",
        "outputId": "d90ae0bf-dc9d-499a-bd2e-530a95de1416"
      },
      "execution_count": 42,
      "outputs": [
        {
          "output_type": "display_data",
          "data": {
            "image/png": "[encoded data removed]",
            "text/plain": [
              "<Figure size 432x288 with 1 Axes>"
            ]
          },
          "metadata": {
            "needs_background": "light"
          }
        }
      ]
    },
    {
      "cell_type": "code",
      "source": [
        "# C-C-C angle\n",
        "angle_indices = [0, 4, 7] # or could do [4, 7, 10]\n",
        "bondangle = md.compute_angles(traj, [angle_indices])\n",
        "\n",
        "anglecounts, binedges, otherstuff = plt.hist(bondangle, bins=100)\n",
        "plt.title('C-C-C bond angle')\n",
        "plt.xlabel('Bond angle (rad)')\n",
        "plt.ylabel('Counts')\n",
        "plt.show()"
      ],
      "metadata": {
        "colab": {
          "base_uri": "https://localhost:8080/",
          "height": 295
        },
        "id": "YRaYsb6mpJuW",
        "outputId": "596194e7-6bdd-4599-c423-dae040e273d7"
      },
      "execution_count": 43,
      "outputs": [
        {
          "output_type": "display_data",
          "data": {
            "image/png": "[encoded data removed]",
            "text/plain": [
              "<Figure size 432x288 with 1 Axes>"
            ]
          },
          "metadata": {
            "needs_background": "light"
          }
        }
      ]
    },
    {
      "cell_type": "code",
      "source": [
        "# C-C-C angle PMF\n",
        "anglecounts[anglecounts==0] = 0.1\n",
        "pmf = -kB*Temp*np.log(anglecounts)\n",
        "pmf = pmf - np.min(pmf)\n",
        "\n",
        "bincenters = (binedges[1:] + binedges[:-1])/2\n",
        "\n",
        "\n",
        "plt.plot(bincenters, pmf)\n",
        "plt.xlabel('Bond angle (rad)')\n",
        "plt.ylabel('Relative free energy (kJ/mol)')\n",
        "plt.show()"
      ],
      "metadata": {
        "colab": {
          "base_uri": "https://localhost:8080/",
          "height": 279
        },
        "id": "CTEbtn0SpO8I",
        "outputId": "3c94f073-97d7-4ddc-c672-b6c92cfdf332"
      },
      "execution_count": 44,
      "outputs": [
        {
          "output_type": "display_data",
          "data": {
            "image/png": "[encoded data removed]",
            "text/plain": [
              "<Figure size 432x288 with 1 Axes>"
            ]
          },
          "metadata": {
            "needs_background": "light"
          }
        }
      ]
    },
    {
      "cell_type": "code",
      "source": [
        "# C-H\n",
        "bond_indices = [0, 1] # many possibilities!\n",
        "bondlength = md.compute_distances(traj, [bond_indices])\n",
        "\n",
        "lengthcounts, binedges, otherstuff = plt.hist(bondlength, bins=100)\n",
        "plt.title('C-H bond length')\n",
        "plt.xlabel('Bond length (nm)')\n",
        "plt.ylabel('Counts')\n",
        "plt.show()"
      ],
      "metadata": {
        "colab": {
          "base_uri": "https://localhost:8080/",
          "height": 295
        },
        "id": "mbP69MuopSQI",
        "outputId": "19e786a7-5189-440b-f713-cd0d64a9573f"
      },
      "execution_count": 45,
      "outputs": [
        {
          "output_type": "display_data",
          "data": {
            "image/png": "[encoded data removed]",
            "text/plain": [
              "<Figure size 432x288 with 1 Axes>"
            ]
          },
          "metadata": {
            "needs_background": "light"
          }
        }
      ]
    },
    {
      "cell_type": "markdown",
      "source": [
        "https://colab.research.google.com/github/paulrobustelli/CHEM101.6/blob/main/Butane_OpenMM.ipynb#scrollTo=wH1oMiVUlxO_ <Br>\n",
        "Butane Analysis "
      ],
      "metadata": {
        "id": "xq8FQnpZ2m5A"
      }
    },
    {
      "cell_type": "code",
      "source": [
        "bond_indices = [4, 7] # atoms to define the bond length\n",
        "bond_length = md.compute_distances(traj, [bond_indices])\n",
        "\n",
        "bondcounts, binedges, otherstuff = plt.hist(bond_length, bins=120)\n",
        "plt.title('C-C bond length histogram')\n",
        "plt.xlabel('Bond length (nm)')\n",
        "plt.ylabel('Counts')\n",
        "plt.show()"
      ],
      "metadata": {
        "colab": {
          "base_uri": "https://localhost:8080/",
          "height": 295
        },
        "id": "pN-1_9ZE2vYo",
        "outputId": "c75057e0-6d36-4531-b3c6-53c58762914f"
      },
      "execution_count": 46,
      "outputs": [
        {
          "output_type": "display_data",
          "data": {
            "image/png": "[encoded data removed]",
            "text/plain": [
              "<Figure size 432x288 with 1 Axes>"
            ]
          },
          "metadata": {
            "needs_background": "light"
          }
        }
      ]
    },
    {
      "cell_type": "code",
      "source": [
        "kB = 8.31446/1000 # Boltzmann constant in kJ/mol\n",
        "Temp = 298.15 # simulation temperature\n",
        "bondcounts[bondcounts==0] = 0.1 # get rid of any bins with 0 counts/infinite energy\n",
        "pmf = -kB*Temp*np.log(bondcounts) # W(x) = -kT*ln[p(x)] = -kT*ln[n(x)] + C\n",
        "pmf = pmf - np.min(pmf) # subtract off minimum value so that energies start from 0\n",
        "\n",
        "bincenters = (binedges[1:] + binedges[:-1])/2 # compute centers of histogram bins\n",
        "\n",
        "plt.plot(bincenters, pmf)\n",
        "plt.xlabel('Bond length (nm)')\n",
        "plt.ylabel('Relative free energy (kJ/mol)')\n",
        "plt.title('C-C bond length pmf')\n",
        "plt.show()"
      ],
      "metadata": {
        "colab": {
          "base_uri": "https://localhost:8080/",
          "height": 295
        },
        "id": "V08d09Ar4OAh",
        "outputId": "65930004-adfd-4665-dfc0-ecacc1367951"
      },
      "execution_count": 47,
      "outputs": [
        {
          "output_type": "display_data",
          "data": {
            "image/png": "[encoded data removed]",
            "text/plain": [
              "<Figure size 432x288 with 1 Axes>"
            ]
          },
          "metadata": {
            "needs_background": "light"
          }
        }
      ]
    },
    {
      "cell_type": "code",
      "source": [
        "bond_indices = [4, 5] # many possibilities!\n",
        "bondlength = md.compute_distances(traj, [bond_indices])\n",
        "\n",
        "lengthcounts, binedges, otherstuff = plt.hist(bondlength, bins=100)\n",
        "plt.title('C-H bond length')\n",
        "plt.xlabel('Bond length (nm)')\n",
        "plt.ylabel('Counts')\n",
        "plt.show()"
      ],
      "metadata": {
        "colab": {
          "base_uri": "https://localhost:8080/",
          "height": 295
        },
        "id": "5KGGk6jP4QGo",
        "outputId": "e07a3ce3-53e7-422b-cb31-4105d99857b4"
      },
      "execution_count": 48,
      "outputs": [
        {
          "output_type": "display_data",
          "data": {
            "image/png": "[encoded data removed]",
            "text/plain": [
              "<Figure size 432x288 with 1 Axes>"
            ]
          },
          "metadata": {
            "needs_background": "light"
          }
        }
      ]
    },
    {
      "cell_type": "code",
      "source": [
        "kB = 8.31446/1000 # Boltzmann constant in kJ/mol\n",
        "Temp = 298.15 # simulation temperature\n",
        "lengthcounts[lengthcounts==0] = 0.1 # get rid of any bins with 0 counts/infinite energy\n",
        "pmf = -kB*Temp*np.log(lengthcounts) # W(x) = -kT*ln[p(x)] = -kT*ln[n(x)] + C\n",
        "pmf = pmf - np.min(pmf) # subtract off minimum value so that energies start from 0\n",
        "\n",
        "bincenters = (binedges[1:] + binedges[:-1])/2 # compute centers of histogram bins\n",
        "\n",
        "plt.plot(bincenters, pmf)\n",
        "plt.xlabel('Bond length (nm)')\n",
        "plt.ylabel('Relative free energy (kJ/mol)')\n",
        "plt.title('C-H bond length pmf')\n",
        "plt.show()"
      ],
      "metadata": {
        "colab": {
          "base_uri": "https://localhost:8080/",
          "height": 295
        },
        "id": "-XeXND7C4R2C",
        "outputId": "e91385c5-82e6-4b71-947e-333c12a86544"
      },
      "execution_count": 49,
      "outputs": [
        {
          "output_type": "display_data",
          "data": {
            "image/png": "[encoded data removed]",
            "text/plain": [
              "<Figure size 432x288 with 1 Axes>"
            ]
          },
          "metadata": {
            "needs_background": "light"
          }
        }
      ]
    },
    {
      "cell_type": "code",
      "source": [
        "phi_indices = [0, 4, 7, 10] # atoms to define the torsion angle\n",
        "phi = md.compute_dihedrals(traj, [phi_indices])\n",
        "\n",
        "phicounts, binedges, otherstuff = plt.hist(phi, bins=90) # create a histogram with 90 bins\n",
        "plt.title('H-C-C-H torsion angle')\n",
        "plt.xlabel(r'$\\phi$ (rad)')\n",
        "plt.ylabel('Counts')\n",
        "plt.show()"
      ],
      "metadata": {
        "colab": {
          "base_uri": "https://localhost:8080/",
          "height": 299
        },
        "id": "GxTn2sK04TeY",
        "outputId": "68aa2e4d-b446-4da3-d4c3-e94364b9bddb"
      },
      "execution_count": 50,
      "outputs": [
        {
          "output_type": "display_data",
          "data": {
            "image/png": "[encoded data removed]",
            "text/plain": [
              "<Figure size 432x288 with 1 Axes>"
            ]
          },
          "metadata": {
            "needs_background": "light"
          }
        }
      ]
    },
    {
      "cell_type": "code",
      "source": [
        "kB = 8.31446/1000 # Boltzmann constant in kJ/mol\n",
        "Temp = 298.15 # simulation temperature\n",
        "phicounts[phicounts==0] = 0.1 # get rid of any bins with 0 counts/infinite energy\n",
        "pmf = -kB*Temp*np.log(phicounts) # W(x) = -kT*ln[p(x)] = -kT*ln[n(x)] + C\n",
        "pmf = pmf - np.min(pmf) # subtract off minimum value so that energies start from 0\n",
        "\n",
        "bincenters = (binedges[1:] + binedges[:-1])/2 # compute centers of histogram bins\n",
        "\n",
        "plt.plot(bincenters, pmf)\n",
        "plt.title('H-C-C-H torsion pmf')\n",
        "plt.xlabel(r'$\\phi$ (rad)')\n",
        "plt.ylabel('Relative free energy (kJ/mol)')\n",
        "plt.show()"
      ],
      "metadata": {
        "colab": {
          "base_uri": "https://localhost:8080/",
          "height": 299
        },
        "id": "KdA1j1614U1V",
        "outputId": "7a1a3c08-cd0e-4638-8d4f-39a8058f5bab"
      },
      "execution_count": 51,
      "outputs": [
        {
          "output_type": "display_data",
          "data": {
            "image/png": "[encoded data removed]",
            "text/plain": [
              "<Figure size 432x288 with 1 Axes>"
            ]
          },
          "metadata": {
            "needs_background": "light"
          }
        }
      ]
    },
    {
      "cell_type": "code",
      "source": [
        "angle_indices = [0, 4, 7] # or could do [4, 7, 10]\n",
        "bondangle = md.compute_angles(traj, [angle_indices])\n",
        "\n",
        "anglecounts, binedges, otherstuff = plt.hist(bondangle, bins=100)\n",
        "plt.title('C-C-C bond angle')\n",
        "plt.xlabel('Bond angle (rad)')\n",
        "plt.ylabel('Counts')\n",
        "plt.show()"
      ],
      "metadata": {
        "colab": {
          "base_uri": "https://localhost:8080/",
          "height": 295
        },
        "id": "hJzy1rcU4WP6",
        "outputId": "3a8c38f2-c6d2-45ba-a764-0b1dfaf41351"
      },
      "execution_count": 52,
      "outputs": [
        {
          "output_type": "display_data",
          "data": {
            "image/png": "[encoded data removed]",
            "text/plain": [
              "<Figure size 432x288 with 1 Axes>"
            ]
          },
          "metadata": {
            "needs_background": "light"
          }
        }
      ]
    },
    {
      "cell_type": "code",
      "source": [
        "anglecounts[anglecounts==0] = 0.1\n",
        "pmf = -kB*Temp*np.log(anglecounts)\n",
        "pmf = pmf - np.min(pmf)\n",
        "\n",
        "bincenters = (binedges[1:] + binedges[:-1])/2\n",
        "\n",
        "\n",
        "plt.plot(bincenters, pmf)\n",
        "plt.xlabel('Bond angle (rad)')\n",
        "plt.ylabel('Relative free energy (kJ/mol)')\n",
        "plt.show()"
      ],
      "metadata": {
        "colab": {
          "base_uri": "https://localhost:8080/",
          "height": 279
        },
        "id": "ABDZHz4L4X08",
        "outputId": "4f5a598c-b72c-4891-9271-4131df7b3d9c"
      },
      "execution_count": 53,
      "outputs": [
        {
          "output_type": "display_data",
          "data": {
            "image/png": "[encoded data removed]",
            "text/plain": [
              "<Figure size 432x288 with 1 Axes>"
            ]
          },
          "metadata": {
            "needs_background": "light"
          }
        }
      ]
    }
  ]
}